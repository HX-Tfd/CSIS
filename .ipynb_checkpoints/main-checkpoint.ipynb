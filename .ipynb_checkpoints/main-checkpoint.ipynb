{
 "cells": [
  {
   "cell_type": "code",
   "execution_count": 2,
   "metadata": {},
   "outputs": [
    {
     "name": "stderr",
     "output_type": "stream",
     "text": [
      "\n",
      "(ipykernel_launcher.py:78315): Gtk-WARNING **: 14:10:06.678: Locale not supported by C library.\n",
      "\tUsing the fallback 'C' locale.\n",
      "objc[78315]: Class GNotificationCenterDelegate is implemented in both /Users/xihan/miniconda3/envs/gt/lib/libgio-2.0.0.dylib (0x1a3ed6b50) and /usr/local/opt/glib/lib/libgio-2.0.0.dylib (0x1a8340330). One of the two will be used. Which one is undefined.\n"
     ]
    }
   ],
   "source": [
    "from graph_tool.all import *"
   ]
  },
  {
   "cell_type": "code",
   "execution_count": 34,
   "metadata": {},
   "outputs": [],
   "source": [
    "import os\n",
    "working_dir = '.' #placeholder"
   ]
  },
  {
   "cell_type": "code",
   "execution_count": 27,
   "metadata": {},
   "outputs": [],
   "source": [
    "g = Graph(directed=False)\n",
    "v1 = g.add_vertex()\n",
    "v2 = g.add_vertex()\n",
    "v3 = g.add_vertex()\n",
    "e1 = g.add_edge(v1, v2)\n",
    "e2 = g.add_edge(v1, v3)"
   ]
  },
  {
   "cell_type": "code",
   "execution_count": 28,
   "metadata": {},
   "outputs": [
    {
     "data": {
      "text/plain": [
       "<VertexPropertyMap object with value type 'vector<double>', for Graph 0x1a78aa400, at 0x1a75b9fa0>"
      ]
     },
     "execution_count": 28,
     "metadata": {},
     "output_type": "execute_result"
    }
   ],
   "source": [
    "graph_draw(g, vertex_text=g.vertex_index, output=\"two-nodes.pdf\")"
   ]
  },
  {
   "cell_type": "code",
   "execution_count": 29,
   "metadata": {},
   "outputs": [
    {
     "name": "stdout",
     "output_type": "stream",
     "text": [
      "2\n",
      "0 1\n"
     ]
    }
   ],
   "source": [
    "print(v1.out_degree())\n",
    "print(e1.source(), e1.target())"
   ]
  },
  {
   "cell_type": "code",
   "execution_count": 31,
   "metadata": {},
   "outputs": [
    {
     "name": "stdout",
     "output_type": "stream",
     "text": [
      "10\n"
     ]
    }
   ],
   "source": [
    "vlist = g.add_vertex(10)\n",
    "print(len(list(vlist)))"
   ]
  },
  {
   "cell_type": "code",
   "execution_count": 33,
   "metadata": {},
   "outputs": [],
   "source": [
    "e3 = g.add_edge(4, 5)"
   ]
  },
  {
   "cell_type": "code",
   "execution_count": 37,
   "metadata": {},
   "outputs": [
    {
     "name": "stdout",
     "output_type": "stream",
     "text": [
      "0\n",
      "1\n",
      "2\n",
      "3\n",
      "4\n",
      "5\n",
      "6\n",
      "7\n",
      "8\n",
      "9\n",
      "10\n",
      "11\n",
      "12\n",
      "13\n",
      "14\n",
      "15\n",
      "16\n",
      "17\n",
      "18\n",
      "19\n",
      "20\n",
      "21\n",
      "22\n",
      "[0, 2]\n",
      "[4, 5]\n"
     ]
    }
   ],
   "source": [
    "for v in g.iter_vertices():\n",
    "    print(v)\n",
    "for e in g.iter_edges():\n",
    "    print(e)\n",
    "    "
   ]
  },
  {
   "cell_type": "code",
   "execution_count": 72,
   "metadata": {},
   "outputs": [],
   "source": [
    "import numpy as np\n",
    "import scipy\n",
    "from scipy.stats import norm\n",
    "import math"
   ]
  },
  {
   "cell_type": "code",
   "execution_count": 101,
   "metadata": {},
   "outputs": [],
   "source": [
    "'''\n",
    "Global configurations\n",
    "'''\n",
    "k_alpha = 1\n",
    "k_beta = .5\n",
    "E_profit = 10\n",
    "K_self_coupling = -2\n",
    "\n",
    "num_clusters = 5\n",
    "num_agents = 20"
   ]
  },
  {
   "cell_type": "code",
   "execution_count": 112,
   "metadata": {},
   "outputs": [],
   "source": [
    "from random import randint\n",
    "\n",
    "'''\n",
    "Create {num_clusters} random clusters\n",
    "if cluster_specific = True, use initialise_driving_force() to initialise cluster-specific driving force\n",
    "\n",
    "Returns: \n",
    "           cluster_elements:  {\"cluster_i\": numpy list of agent ids in cluster i}\n",
    "           driving_forces:    numpy list of driving forces (properly-/0-initialised)\n",
    "           agents:            numpy list of agent intrinsics\n",
    "\n",
    "'''\n",
    "\n",
    "def create_clusters(num_clusters, num_agents, cluster_specific=False):\n",
    "    assert num_agents >= num_clusters >= 1\n",
    "    \n",
    "    #contains the slices between clusters\n",
    "    # TODO: needs better random partition\n",
    "    clusters = []\n",
    "    for idx in range(num_clusters-1):\n",
    "        clusters.append(randint(1,num_agents-sum(clusters)-num_clusters+idx))\n",
    "    clusters.append(num_agents-1)\n",
    "\n",
    "    # create cluster elements\n",
    "    agents_ids = np.arange(num_agents)\n",
    "    np.random.shuffle(agents_ids)\n",
    "    cluster_elements = {}\n",
    "    curr_pos = 0\n",
    "    for i in range(num_clusters):\n",
    "        cluster_elements[\"cluster_{}\".format(i)] = agents_ids[curr_pos:(clusters[i]+curr_pos-1)]\n",
    "        curr_pos += clusters[i]\n",
    "        \n",
    "    #initialise driving forces\n",
    "    if cluster_specific:\n",
    "        driving_forces = initialise_driving_forces(num_agents)\n",
    "    else:\n",
    "        driving_forces = np.zeros(num_agents)\n",
    "        \n",
    "    #initialise agents intrinsics\n",
    "    agents = initialise_agents(num_agents)\n",
    "        \n",
    "    return cluster_elements, driving_forces, agents\n",
    "        \n",
    "    \n",
    "'''\n",
    "Initialises the driving forces for each agent in {agents}\n",
    "You can define initialization schemes here\n",
    "\n",
    "Retuns: a numpy array containing the driving force of each agent\n",
    "\n",
    "'''   \n",
    "def initialise_driving_forces(num_agents):\n",
    "    driving_forces = np.random.rand(num_agents) #hard-coded for now\n",
    "    return driving_forces\n",
    "    \n",
    "'''\n",
    "Initialises the intrinsics for each agent in {agents}\n",
    "You can define initialization schemes here\n",
    "\n",
    "Retuns: a numpy array containing the intrinsics of each agent\n",
    "'''\n",
    "def initialise_agents(num_agents):\n",
    "    return np.zeros(num_agents) #hard-coded for now\n",
    "\n"
   ]
  },
  {
   "cell_type": "code",
   "execution_count": 113,
   "metadata": {},
   "outputs": [
    {
     "name": "stdout",
     "output_type": "stream",
     "text": [
      "clusters: {'cluster_0': array([ 4, 16,  5, 12,  6,  0, 19, 14, 10,  3,  8, 15, 18,  1]), 'cluster_1': array([], dtype=int64), 'cluster_2': array([], dtype=int64), 'cluster_3': array([], dtype=int64), 'cluster_4': array([13, 17])}\n",
      "\n",
      " driving forces: [0. 0. 0. 0. 0. 0. 0. 0. 0. 0. 0. 0. 0. 0. 0. 0. 0. 0. 0. 0.]\n",
      "\n",
      " agents:[0. 0. 0. 0. 0. 0. 0. 0. 0. 0. 0. 0. 0. 0. 0. 0. 0. 0. 0. 0.]\n",
      "\n"
     ]
    }
   ],
   "source": [
    "clusters, driving_forces, agents = create_clusters(num_clusters, num_agents)\n",
    "print(\"clusters: {}\\n\\n driving forces: {}\\n\\n agents:{}\\n\".format(clusters, driving_forces, agents))"
   ]
  },
  {
   "cell_type": "code",
   "execution_count": 120,
   "metadata": {},
   "outputs": [],
   "source": [
    "'''\n",
    "    updates the agent intrinsics and driving forces \n",
    "'''\n",
    "\n",
    "# TODO: need to fix this\n",
    "def update_driving_forces(driving_forces, agents, clusters):\n",
    "    # update each cluster locally\n",
    "    updated_agents = np.zeros(len(driving_forces))\n",
    "    for n in range(len(clusters)):\n",
    "        agents_ids = clusters[\"cluster_{}\".format(n)]\n",
    "        cluster_size = len(agents_ids)\n",
    "        \n",
    "        # update the driving force of each agent in the current cluster\n",
    "        # based on the other agents in the cluster\n",
    "        \n",
    "#         for a in agents_ids:\n",
    "#             updated_agents[a] = np.sum([x for x in driving_forces[agents_ids] if x != a])\n",
    "            \n",
    "#         for a in agents_ids:\n",
    "#             driving_forces[a] = E_profit + np.sum(updated_agents[agents_ids]) * k_alpha\n",
    "#             print(\"agent {} obatined a df of {}\".format(a, driving_forces[a]))\n",
    "#         print(\"resulting df: {}\\n\".format(driving_forces))\n",
    "            \n",
    "    return updated_agents, driving_forces"
   ]
  },
  {
   "cell_type": "code",
   "execution_count": 121,
   "metadata": {},
   "outputs": [
    {
     "name": "stdout",
     "output_type": "stream",
     "text": [
      "agent 4 obatined a df of 8716782490.0\n",
      "agent 16 obatined a df of 8716782490.0\n",
      "agent 5 obatined a df of 8716782490.0\n",
      "agent 12 obatined a df of 8716782490.0\n",
      "agent 6 obatined a df of 8716782490.0\n",
      "agent 0 obatined a df of 8716782490.0\n",
      "agent 19 obatined a df of 8716782490.0\n",
      "agent 14 obatined a df of 8716782490.0\n",
      "agent 10 obatined a df of 8716782490.0\n",
      "agent 3 obatined a df of 8716782490.0\n",
      "agent 8 obatined a df of 8716782490.0\n",
      "agent 15 obatined a df of 8716782490.0\n",
      "agent 18 obatined a df of 8716782490.0\n",
      "agent 1 obatined a df of 8716782490.0\n",
      "resulting df: [8.71678249e+09 8.71678249e+09 0.00000000e+00 8.71678249e+09\n",
      " 8.71678249e+09 8.71678249e+09 8.71678249e+09 0.00000000e+00\n",
      " 8.71678249e+09 0.00000000e+00 8.71678249e+09 0.00000000e+00\n",
      " 8.71678249e+09 7.00000000e+01 8.71678249e+09 8.71678249e+09\n",
      " 8.71678249e+09 7.00000000e+01 8.71678249e+09 8.71678249e+09]\n",
      "\n",
      "resulting df: [8.71678249e+09 8.71678249e+09 0.00000000e+00 8.71678249e+09\n",
      " 8.71678249e+09 8.71678249e+09 8.71678249e+09 0.00000000e+00\n",
      " 8.71678249e+09 0.00000000e+00 8.71678249e+09 0.00000000e+00\n",
      " 8.71678249e+09 7.00000000e+01 8.71678249e+09 8.71678249e+09\n",
      " 8.71678249e+09 7.00000000e+01 8.71678249e+09 8.71678249e+09]\n",
      "\n",
      "resulting df: [8.71678249e+09 8.71678249e+09 0.00000000e+00 8.71678249e+09\n",
      " 8.71678249e+09 8.71678249e+09 8.71678249e+09 0.00000000e+00\n",
      " 8.71678249e+09 0.00000000e+00 8.71678249e+09 0.00000000e+00\n",
      " 8.71678249e+09 7.00000000e+01 8.71678249e+09 8.71678249e+09\n",
      " 8.71678249e+09 7.00000000e+01 8.71678249e+09 8.71678249e+09]\n",
      "\n",
      "resulting df: [8.71678249e+09 8.71678249e+09 0.00000000e+00 8.71678249e+09\n",
      " 8.71678249e+09 8.71678249e+09 8.71678249e+09 0.00000000e+00\n",
      " 8.71678249e+09 0.00000000e+00 8.71678249e+09 0.00000000e+00\n",
      " 8.71678249e+09 7.00000000e+01 8.71678249e+09 8.71678249e+09\n",
      " 8.71678249e+09 7.00000000e+01 8.71678249e+09 8.71678249e+09]\n",
      "\n",
      "agent 13 obatined a df of 290.0\n",
      "agent 17 obatined a df of 290.0\n",
      "resulting df: [8.71678249e+09 8.71678249e+09 0.00000000e+00 8.71678249e+09\n",
      " 8.71678249e+09 8.71678249e+09 8.71678249e+09 0.00000000e+00\n",
      " 8.71678249e+09 0.00000000e+00 8.71678249e+09 0.00000000e+00\n",
      " 8.71678249e+09 2.90000000e+02 8.71678249e+09 8.71678249e+09\n",
      " 8.71678249e+09 2.90000000e+02 8.71678249e+09 8.71678249e+09]\n",
      "\n"
     ]
    },
    {
     "data": {
      "text/plain": [
       "(array([6.2262732e+08, 6.2262732e+08, 0.0000000e+00, 6.2262732e+08,\n",
       "        6.2262732e+08, 6.2262732e+08, 6.2262732e+08, 0.0000000e+00,\n",
       "        6.2262732e+08, 0.0000000e+00, 6.2262732e+08, 0.0000000e+00,\n",
       "        6.2262732e+08, 1.4000000e+02, 6.2262732e+08, 6.2262732e+08,\n",
       "        6.2262732e+08, 1.4000000e+02, 6.2262732e+08, 6.2262732e+08]),\n",
       " array([8.71678249e+09, 8.71678249e+09, 0.00000000e+00, 8.71678249e+09,\n",
       "        8.71678249e+09, 8.71678249e+09, 8.71678249e+09, 0.00000000e+00,\n",
       "        8.71678249e+09, 0.00000000e+00, 8.71678249e+09, 0.00000000e+00,\n",
       "        8.71678249e+09, 2.90000000e+02, 8.71678249e+09, 8.71678249e+09,\n",
       "        8.71678249e+09, 2.90000000e+02, 8.71678249e+09, 8.71678249e+09]))"
      ]
     },
     "execution_count": 121,
     "metadata": {},
     "output_type": "execute_result"
    }
   ],
   "source": [
    "upd_df = update_driving_forces(driving_forces, agents, clusters)\n",
    "upd_df"
   ]
  },
  {
   "cell_type": "code",
   "execution_count": 122,
   "metadata": {},
   "outputs": [],
   "source": [
    "hi = k_alpha*len(updated_agents) \n",
    "lo = None\n",
    "\n",
    "def normalise_driving_force(driving_forces):\n",
    "    driving_force_normed = driving_forces/hi\n",
    "    probability = math.erf(driving_force_normed[0])\n",
    "    print(driving_force_norm[0], probability)\n",
    "\n",
    "\n",
    "'''\n",
    "compute the probability of change given a driving force    \n",
    "'''\n",
    "def change_probs(driving_force, hi, lo=None):\n",
    "    probs = np.zeros(len(driving_force))\n",
    "    for i in range(len(driving_force)):\n",
    "        if agents[i] < hi:\n",
    "            probs[i] = math.erf(driving_force[i])#norm.ppf(agents[i])\n",
    "        else:\n",
    "            probs[i] = math.erf(hi)\n",
    "    return probs\n",
    "\n",
    "\n",
    "'''\n",
    "The new opinion {x} of an agent given the prob. of change {p}\n",
    "'''\n",
    "def opinion(x, p):\n",
    "    res = (np.random.rand(1))[0]\n",
    "    return 1-x if res < p else x\n",
    "\n",
    "\n",
    "# curretn_state: (agents, probs)\n",
    "# TODO: adapt this \n",
    "def update_state(current_state, f):\n",
    "    new_state = []\n",
    "    agents = current_state[0]\n",
    "    probs = current_state[1]\n",
    "    for i in range(len(agents)):\n",
    "        new_state.append(int(f(agents[i], probs[i])))\n",
    "    return new_state"
   ]
  },
  {
   "cell_type": "code",
   "execution_count": 185,
   "metadata": {},
   "outputs": [],
   "source": [
    "probs = change_probs(driving_force_norm, hi, lo)"
   ]
  },
  {
   "cell_type": "code",
   "execution_count": 192,
   "metadata": {},
   "outputs": [
    {
     "data": {
      "text/plain": [
       "[1, 0, 1, 0, 1, 0, 0, 1, 0, 0, 0, 0, 0, 0, 1, 0, 1, 1, 0, 0]"
      ]
     },
     "execution_count": 192,
     "metadata": {},
     "output_type": "execute_result"
    }
   ],
   "source": [
    "update_state((updated_agents, probs), opinion)"
   ]
  },
  {
   "cell_type": "code",
   "execution_count": null,
   "metadata": {},
   "outputs": [],
   "source": []
  }
 ],
 "metadata": {
  "kernelspec": {
   "display_name": "Python 3 (ipykernel)",
   "language": "python",
   "name": "python3"
  },
  "language_info": {
   "codemirror_mode": {
    "name": "ipython",
    "version": 3
   },
   "file_extension": ".py",
   "mimetype": "text/x-python",
   "name": "python",
   "nbconvert_exporter": "python",
   "pygments_lexer": "ipython3",
   "version": "3.9.7"
  }
 },
 "nbformat": 4,
 "nbformat_minor": 4
}
