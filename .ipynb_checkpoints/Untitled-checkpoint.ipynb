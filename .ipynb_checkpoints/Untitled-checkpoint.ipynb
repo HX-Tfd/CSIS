{
 "cells": [
  {
   "cell_type": "code",
   "execution_count": 2,
   "metadata": {},
   "outputs": [
    {
     "name": "stderr",
     "output_type": "stream",
     "text": [
      "\n",
      "(ipykernel_launcher.py:78315): Gtk-WARNING **: 14:10:06.678: Locale not supported by C library.\n",
      "\tUsing the fallback 'C' locale.\n",
      "objc[78315]: Class GNotificationCenterDelegate is implemented in both /Users/xihan/miniconda3/envs/gt/lib/libgio-2.0.0.dylib (0x1a3ed6b50) and /usr/local/opt/glib/lib/libgio-2.0.0.dylib (0x1a8340330). One of the two will be used. Which one is undefined.\n"
     ]
    }
   ],
   "source": [
    "from graph_tool.all import *"
   ]
  },
  {
   "cell_type": "code",
   "execution_count": 34,
   "metadata": {},
   "outputs": [],
   "source": [
    "import os\n",
    "working_dir = '.' #placeholder"
   ]
  },
  {
   "cell_type": "code",
   "execution_count": 27,
   "metadata": {},
   "outputs": [],
   "source": [
    "g = Graph(directed=False)\n",
    "v1 = g.add_vertex()\n",
    "v2 = g.add_vertex()\n",
    "v3 = g.add_vertex()\n",
    "e1 = g.add_edge(v1, v2)\n",
    "e2 = g.add_edge(v1, v3)"
   ]
  },
  {
   "cell_type": "code",
   "execution_count": 28,
   "metadata": {},
   "outputs": [
    {
     "data": {
      "text/plain": [
       "<VertexPropertyMap object with value type 'vector<double>', for Graph 0x1a78aa400, at 0x1a75b9fa0>"
      ]
     },
     "execution_count": 28,
     "metadata": {},
     "output_type": "execute_result"
    }
   ],
   "source": [
    "graph_draw(g, vertex_text=g.vertex_index, output=\"two-nodes.pdf\")"
   ]
  },
  {
   "cell_type": "code",
   "execution_count": null,
   "metadata": {},
   "outputs": [],
   "source": [
    "!"
   ]
  },
  {
   "cell_type": "code",
   "execution_count": 29,
   "metadata": {},
   "outputs": [
    {
     "name": "stdout",
     "output_type": "stream",
     "text": [
      "2\n",
      "0 1\n"
     ]
    }
   ],
   "source": [
    "print(v1.out_degree())\n",
    "print(e1.source(), e1.target())"
   ]
  },
  {
   "cell_type": "code",
   "execution_count": 31,
   "metadata": {},
   "outputs": [
    {
     "name": "stdout",
     "output_type": "stream",
     "text": [
      "10\n"
     ]
    }
   ],
   "source": [
    "vlist = g.add_vertex(10)\n",
    "print(len(list(vlist)))"
   ]
  },
  {
   "cell_type": "code",
   "execution_count": 33,
   "metadata": {},
   "outputs": [],
   "source": [
    "e3 = g.add_edge(4, 5)"
   ]
  },
  {
   "cell_type": "code",
   "execution_count": 37,
   "metadata": {},
   "outputs": [
    {
     "name": "stdout",
     "output_type": "stream",
     "text": [
      "0\n",
      "1\n",
      "2\n",
      "3\n",
      "4\n",
      "5\n",
      "6\n",
      "7\n",
      "8\n",
      "9\n",
      "10\n",
      "11\n",
      "12\n",
      "13\n",
      "14\n",
      "15\n",
      "16\n",
      "17\n",
      "18\n",
      "19\n",
      "20\n",
      "21\n",
      "22\n",
      "[0, 2]\n",
      "[4, 5]\n"
     ]
    }
   ],
   "source": [
    "for v in g.iter_vertices():\n",
    "    print(v)\n",
    "for e in g.iter_edges():\n",
    "    print(e)\n",
    "    "
   ]
  },
  {
   "cell_type": "code",
   "execution_count": 126,
   "metadata": {},
   "outputs": [],
   "source": [
    "import numpy as np\n",
    "import scipy\n",
    "from scipy.stats import norm\n",
    "import math\n"
   ]
  },
  {
   "cell_type": "code",
   "execution_count": 117,
   "metadata": {},
   "outputs": [],
   "source": [
    "agents = np.zeros(100)\n",
    "k_alpha = 1\n",
    "k_beta = .5\n",
    "E_profit = 10\n",
    "K_self_coupling = -2\n",
    "\n",
    "driving_force = np.random.rand(20)"
   ]
  },
  {
   "cell_type": "code",
   "execution_count": 118,
   "metadata": {},
   "outputs": [],
   "source": [
    "updated_agents = np.zeros(20)\n",
    "for a in range(20):\n",
    "    ##dforce = driving_force[a]\n",
    "    updated_agents[a] = np.sum([x for x in agents[:20] if x != a])\n",
    "    driving_force[a]=E_profit+np.sum(updated_agents) * k_alpha"
   ]
  },
  {
   "cell_type": "code",
   "execution_count": 119,
   "metadata": {},
   "outputs": [
    {
     "name": "stdout",
     "output_type": "stream",
     "text": [
      "0.5 0.5204998778130465\n"
     ]
    }
   ],
   "source": [
    "driving_force_norm=driving_force/hi\n",
    "probability=math.erf(driving_force_norm[0])\n",
    "print(driving_force_norm[0], probability)"
   ]
  },
  {
   "cell_type": "code",
   "execution_count": 122,
   "metadata": {},
   "outputs": [],
   "source": [
    "hi = k_alpha*len(updated_agents) #do this for every cluster\n",
    "lo = None\n",
    "\n",
    "def change_probs(driving_force, hi, lo=None):\n",
    "    probs = np.zeros(len(driving_force))\n",
    "    for i in range(len(driving_force)):\n",
    "        if agents[i] < hi:\n",
    "            probs[i] = math.erf(driving_force[i])#norm.ppf(agents[i])\n",
    "        else:\n",
    "            probs[i] = math.erf(hi)\n",
    "    return probs"
   ]
  },
  {
   "cell_type": "code",
   "execution_count": 123,
   "metadata": {},
   "outputs": [
    {
     "data": {
      "text/plain": [
       "array([0.52049988, 0.52049988, 0.52049988, 0.52049988, 0.52049988,\n",
       "       0.52049988, 0.52049988, 0.52049988, 0.52049988, 0.52049988,\n",
       "       0.52049988, 0.52049988, 0.52049988, 0.52049988, 0.52049988,\n",
       "       0.52049988, 0.52049988, 0.52049988, 0.52049988, 0.52049988])"
      ]
     },
     "execution_count": 123,
     "metadata": {},
     "output_type": "execute_result"
    }
   ],
   "source": [
    "change_probs(driving_force_norm, hi, lo)"
   ]
  },
  {
   "cell_type": "code",
   "execution_count": 178,
   "metadata": {},
   "outputs": [],
   "source": [
    "def opinion(x, p):\n",
    "    res = (np.random.rand(1))[0]\n",
    "    return 1-x if res < p else x"
   ]
  },
  {
   "cell_type": "code",
   "execution_count": null,
   "metadata": {},
   "outputs": [],
   "source": []
  },
  {
   "cell_type": "code",
   "execution_count": null,
   "metadata": {},
   "outputs": [],
   "source": []
  }
 ],
 "metadata": {
  "kernelspec": {
   "display_name": "Python 3 (ipykernel)",
   "language": "python",
   "name": "python3"
  },
  "language_info": {
   "codemirror_mode": {
    "name": "ipython",
    "version": 3
   },
   "file_extension": ".py",
   "mimetype": "text/x-python",
   "name": "python",
   "nbconvert_exporter": "python",
   "pygments_lexer": "ipython3",
   "version": "3.9.7"
  }
 },
 "nbformat": 4,
 "nbformat_minor": 4
}
