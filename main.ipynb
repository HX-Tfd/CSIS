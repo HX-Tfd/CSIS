{
 "cells": [
  {
   "cell_type": "markdown",
   "metadata": {},
   "source": [
    "<h1>Section 1: Graph-Tool<h1>\n",
    "        This section includes testing of the basic Graph-Tool functionalities"
   ]
  },
  {
   "cell_type": "code",
   "execution_count": null,
   "metadata": {},
   "outputs": [],
   "source": [
    "from graph_tool.all import *"
   ]
  },
  {
   "cell_type": "code",
   "execution_count": 2,
   "metadata": {},
   "outputs": [],
   "source": [
    "g = Graph(directed=False)\n",
    "v1 = g.add_vertex()\n",
    "v2 = g.add_vertex()\n",
    "v3 = g.add_vertex()\n",
    "e1 = g.add_edge(v1, v2)\n",
    "e2 = g.add_edge(v1, v3)"
   ]
  },
  {
   "cell_type": "code",
   "execution_count": 3,
   "metadata": {},
   "outputs": [
    {
     "data": {
      "text/plain": [
       "<VertexPropertyMap object with value type 'vector<double>', for Graph 0x1a178fb50, at 0x1a1799580>"
      ]
     },
     "execution_count": 3,
     "metadata": {},
     "output_type": "execute_result"
    }
   ],
   "source": [
    "graph_draw(g, vertex_text=g.vertex_index, output=\"two-nodes.pdf\")"
   ]
  },
  {
   "cell_type": "code",
   "execution_count": 4,
   "metadata": {},
   "outputs": [
    {
     "name": "stdout",
     "output_type": "stream",
     "text": [
      "2\n",
      "0 1\n"
     ]
    }
   ],
   "source": [
    "print(v1.out_degree())\n",
    "print(e1.source(), e1.target())"
   ]
  },
  {
   "cell_type": "code",
   "execution_count": 5,
   "metadata": {},
   "outputs": [
    {
     "name": "stdout",
     "output_type": "stream",
     "text": [
      "10\n"
     ]
    }
   ],
   "source": [
    "vlist = g.add_vertex(10)\n",
    "print(len(list(vlist)))"
   ]
  },
  {
   "cell_type": "code",
   "execution_count": 6,
   "metadata": {},
   "outputs": [],
   "source": [
    "e3 = g.add_edge(4, 5)"
   ]
  },
  {
   "cell_type": "code",
   "execution_count": 7,
   "metadata": {},
   "outputs": [
    {
     "name": "stdout",
     "output_type": "stream",
     "text": [
      "0\n",
      "1\n",
      "2\n",
      "3\n",
      "4\n",
      "5\n",
      "6\n",
      "7\n",
      "8\n",
      "9\n",
      "10\n",
      "11\n",
      "12\n",
      "[0, 1]\n",
      "[0, 2]\n",
      "[4, 5]\n"
     ]
    }
   ],
   "source": [
    "for v in g.iter_vertices():\n",
    "    print(v)\n",
    "for e in g.iter_edges():\n",
    "    print(e)\n",
    "    "
   ]
  },
  {
   "cell_type": "code",
   "execution_count": 8,
   "metadata": {},
   "outputs": [
    {
     "data": {
      "text/plain": [
       "array([2, 1, 1, 0, 1, 1, 0, 0, 0, 0, 0, 0, 0], dtype=uint64)"
      ]
     },
     "execution_count": 8,
     "metadata": {},
     "output_type": "execute_result"
    }
   ],
   "source": [
    "g.get_out_degrees(g.get_vertices())"
   ]
  },
  {
   "cell_type": "code",
   "execution_count": 17,
   "metadata": {},
   "outputs": [
    {
     "name": "stdout",
     "output_type": "stream",
     "text": [
      "edges added:\n",
      "[0, 94]\n",
      "[3, 90]\n",
      "[24, 37]\n",
      "[29, 12]\n",
      "[32, 25]\n",
      "[40, 5]\n",
      "[64, 2]\n",
      "[65, 53]\n",
      "[70, 61]\n",
      "[71, 52]\n",
      "property of vertex 10: 3.1416\n",
      "property of vertex 40: array([ 1,  3, 42, 54], dtype=int32)\n",
      "property of edge (0, 94): {'name': 'foo', 'weight': 42}\n"
     ]
    }
   ],
   "source": [
    "from numpy.random import randint\n",
    "\n",
    "g = Graph()\n",
    "g.add_vertex(100)\n",
    "\n",
    "# insert some random links\n",
    "num_edges = 10\n",
    "for s,t in zip(randint(0, 100, num_edges), randint(0, 100, num_edges)):\n",
    "    g.add_edge(g.vertex(s), g.vertex(t))\n",
    "    \n",
    "#print edges\n",
    "print(\"edges added:\")\n",
    "for i in g.iter_edges():\n",
    "    print(i)\n",
    "\n",
    "vprop_double = g.new_vertex_property(\"double\")            # Double-precision floating point\n",
    "v = g.vertex(10)\n",
    "vprop_double[v] = 3.1416\n",
    "print(\"property of vertex {}: {}\".format(v, vprop_double[v]))\n",
    "\n",
    "vprop_vint = g.new_vertex_property(\"vector<int>\")         # Vector of ints\n",
    "v = g.vertex(40)\n",
    "vprop_vint[v] = [1, 3, 42, 54]\n",
    "print(\"property of vertex {}: {}\".format(v, vprop_vint[v]))\n",
    "\n",
    "eprop_dict = g.new_edge_property(\"object\")                # Arbitrary Python object.\n",
    "e = g.edges().next()\n",
    "eprop_dict[e] = {\"name\": \"foo\", \"weight\": 42} \n",
    "print(\"property of edge {}: {}\".format(e, eprop_dict[e]))\n",
    "\n",
    "gprop_bool = g.new_graph_property(\"bool\")                 # Boolean\n",
    "gprop_bool[g] = True\n"
   ]
  },
  {
   "cell_type": "code",
   "execution_count": 26,
   "metadata": {},
   "outputs": [
    {
     "name": "stdout",
     "output_type": "stream",
     "text": [
      "int 0\n",
      "vector<int> array([], dtype=int32)\n",
      "double 0.0\n",
      "vector<double> array([], dtype=float64)\n",
      "object None\n",
      "bool 0\n"
     ]
    }
   ],
   "source": [
    "# See what the initializations are for each of the graph properties\n",
    "for prop in [\"int\", \"vector<int>\", \"double\", \"vector<double>\", \"object\", \"bool\"]:\n",
    "    gprop = g.new_graph_property(prop)\n",
    "    g.graph_properties[\"custom property\"] = gprop\n",
    "    print(prop, g.graph_properties[\"custom property\"])"
   ]
  },
  {
   "cell_type": "code",
   "execution_count": 30,
   "metadata": {},
   "outputs": [
    {
     "name": "stdout",
     "output_type": "stream",
     "text": [
      "1\n"
     ]
    }
   ],
   "source": [
    "g.vp.custom_property = vprop = g.new_vertex_property(\"bool\")\n",
    "g.vp.custom_property[g.vertex(0)] = True\n",
    "print(g.vp.custom_property[g.vertex(0)])"
   ]
  },
  {
   "cell_type": "code",
   "execution_count": null,
   "metadata": {},
   "outputs": [],
   "source": [
    "import os\n",
    "working_dir = '.' #placeholder\n",
    "\n",
    "'''\n",
    "Saves the graph g to {target path} with name {name}\n",
    "'''\n",
    "def save_graph(g, name, target_path):\n",
    "    abs_path = os.path.join(working_dir, target_path)\n",
    "    g.save(\"{}.xml.gz\".format(name))\n",
    "    \n",
    "\n",
    "'''\n",
    "Loads the graph g from {source path} \n",
    "\n",
    "Returns: the loaded graph \n",
    "'''\n",
    "def load_graph(source_path):\n",
    "    return load_graph(source_path)\n"
   ]
  },
  {
   "cell_type": "code",
   "execution_count": 31,
   "metadata": {},
   "outputs": [],
   "source": [
    "'''\n",
    "converts the following to a unified graph:\n",
    "    \n",
    "    - agent ids\n",
    "    - agent intrinsics\n",
    "    - driving forces\n",
    "    - opinion\n",
    "    \n",
    "Input:\n",
    "\n",
    "    agents:          numpy array of agent intrinsics\n",
    "    clusters:        {\"cluster_i\": a list of agent ids}\n",
    "    driving_forces:  numpy array of the driving forces\n",
    "    opinions:        binary numpy array of the opinions\n",
    "    \n",
    "'''\n",
    "def to_graph(agents, clusters, driving_forces, opinions):\n",
    "    pass\n",
    "    "
   ]
  },
  {
   "cell_type": "markdown",
   "metadata": {},
   "source": [
    "<h2>Section 2: the model will be implemented here<h2>"
   ]
  },
  {
   "cell_type": "code",
   "execution_count": 72,
   "metadata": {},
   "outputs": [],
   "source": [
    "import numpy as np\n",
    "import scipy\n",
    "from scipy.stats import norm\n",
    "import math"
   ]
  },
  {
   "cell_type": "code",
   "execution_count": 101,
   "metadata": {},
   "outputs": [],
   "source": [
    "'''\n",
    "Global configurations\n",
    "'''\n",
    "k_alpha = 1\n",
    "k_beta = .5\n",
    "E_profit = 10\n",
    "K_self_coupling = -2\n",
    "\n",
    "num_clusters = 5\n",
    "num_agents = 20"
   ]
  },
  {
   "cell_type": "code",
   "execution_count": 112,
   "metadata": {},
   "outputs": [],
   "source": [
    "from random import randint\n",
    "\n",
    "'''\n",
    "Create {num_clusters} random clusters\n",
    "if cluster_specific = True, use initialise_driving_force() to initialise cluster-specific driving force\n",
    "\n",
    "Returns: \n",
    "           cluster_elements:  {\"cluster_i\": numpy array of agent ids in cluster i}\n",
    "           driving_forces:    numpy array of driving forces (properly-/0-initialised)\n",
    "           agents:            numpy array of agent intrinsics\n",
    "           opinions:          a numpy binary array of the opinions\n",
    "\n",
    "'''\n",
    "\n",
    "def create_clusters(num_clusters, num_agents, cluster_specific=False):\n",
    "    assert num_agents >= num_clusters >= 1\n",
    "    \n",
    "    #contains the slices between clusters\n",
    "    # TODO: needs better random partition\n",
    "    clusters = []\n",
    "    for idx in range(num_clusters-1):\n",
    "        clusters.append(randint(1,num_agents-sum(clusters)-num_clusters+idx))\n",
    "    clusters.append(num_agents-1)\n",
    "\n",
    "    # create cluster elements\n",
    "    agents_ids = np.arange(num_agents)\n",
    "    np.random.shuffle(agents_ids)\n",
    "    cluster_elements = {}\n",
    "    curr_pos = 0\n",
    "    for i in range(num_clusters):\n",
    "        cluster_elements[\"cluster_{}\".format(i)] = agents_ids[curr_pos:(clusters[i]+curr_pos-1)]\n",
    "        curr_pos += clusters[i]\n",
    "        \n",
    "    #initialise driving forces\n",
    "    if cluster_specific:\n",
    "        driving_forces = initialise_driving_forces(num_agents)\n",
    "    else:\n",
    "        driving_forces = np.zeros(num_agents)\n",
    "        \n",
    "    #initialise agents intrinsics\n",
    "    agents = initialise_agents(num_agents)\n",
    "    \n",
    "    #initialise opinions\n",
    "    opinions = initialise_opinions(num_agents)\n",
    "        \n",
    "    return cluster_elements, driving_forces, agents, opinions\n",
    "        \n",
    "    \n",
    "'''\n",
    "Initialises the driving forces for each agent in {agents}\n",
    "You can define initialization schemes here\n",
    "\n",
    "Retuns: a numpy array containing the driving force of each agent\n",
    "\n",
    "'''   \n",
    "def initialise_driving_forces(num_agents):\n",
    "    driving_forces = np.random.rand(num_agents) #hard-coded for now\n",
    "    return driving_forces\n",
    "    \n",
    "'''\n",
    "Initialises the intrinsics for each agent in {agents}\n",
    "You can define initialization schemes here\n",
    "\n",
    "Retuns: a numpy array containing the intrinsics of each agent\n",
    "'''\n",
    "def initialise_agents(num_agents):\n",
    "    return np.zeros(num_agents) #hard-coded for now\n",
    "\n",
    "\n",
    "'''\n",
    "Initialises the opinions for each agent in {agents}\n",
    "You can define initialization schemes here\n",
    "\n",
    "Retuns: a numpy array containing the opinions of each agent\n",
    "'''\n",
    "def initialise_opinions(num_agents):\n",
    "    return np.random.randint(2, num_agents) #hard-coded for now\n",
    "\n"
   ]
  },
  {
   "cell_type": "code",
   "execution_count": 113,
   "metadata": {},
   "outputs": [
    {
     "name": "stdout",
     "output_type": "stream",
     "text": [
      "clusters: {'cluster_0': array([ 4, 16,  5, 12,  6,  0, 19, 14, 10,  3,  8, 15, 18,  1]), 'cluster_1': array([], dtype=int64), 'cluster_2': array([], dtype=int64), 'cluster_3': array([], dtype=int64), 'cluster_4': array([13, 17])}\n",
      "\n",
      " driving forces: [0. 0. 0. 0. 0. 0. 0. 0. 0. 0. 0. 0. 0. 0. 0. 0. 0. 0. 0. 0.]\n",
      "\n",
      " agents:[0. 0. 0. 0. 0. 0. 0. 0. 0. 0. 0. 0. 0. 0. 0. 0. 0. 0. 0. 0.]\n",
      "\n"
     ]
    }
   ],
   "source": [
    "clusters, driving_forces, agents, opinions = create_clusters(num_clusters, num_agents)\n",
    "print(\"clusters: {}\\n\\n driving forces: {}\\n\\n agents:{}\\n\\n opinions:{}\".format(clusters, driving_forces, agents, opinions))"
   ]
  },
  {
   "cell_type": "code",
   "execution_count": 120,
   "metadata": {},
   "outputs": [],
   "source": [
    "'''\n",
    "    updates the agent intrinsics (optional), opinions and driving forces \n",
    "'''\n",
    "\n",
    "# TODO: need to fix this\n",
    "def update_driving_forces(driving_forces, agents, clusters, opinions):\n",
    "    # update each cluster locally\n",
    "    updated_agents = np.zeros(len(driving_forces))\n",
    "    for n in range(len(clusters)):\n",
    "        agents_ids = clusters[\"cluster_{}\".format(n)]\n",
    "        cluster_size = len(agents_ids)\n",
    "        \n",
    "        # update the driving force of each agent in the current cluster\n",
    "        # based on the other agents in the cluster\n",
    "        \n",
    "#         for a in agents_ids:\n",
    "#             updated_agents[a] = np.sum([x for x in driving_forces[agents_ids] if x != a])\n",
    "            \n",
    "#         for a in agents_ids:\n",
    "#             driving_forces[a] = E_profit + np.sum(updated_agents[agents_ids]) * k_alpha\n",
    "#             print(\"agent {} obatined a df of {}\".format(a, driving_forces[a]))\n",
    "#         print(\"resulting df: {}\\n\".format(driving_forces))\n",
    "            \n",
    "    return updated_agents, driving_forces"
   ]
  },
  {
   "cell_type": "code",
   "execution_count": 121,
   "metadata": {},
   "outputs": [
    {
     "name": "stdout",
     "output_type": "stream",
     "text": [
      "agent 4 obatined a df of 8716782490.0\n",
      "agent 16 obatined a df of 8716782490.0\n",
      "agent 5 obatined a df of 8716782490.0\n",
      "agent 12 obatined a df of 8716782490.0\n",
      "agent 6 obatined a df of 8716782490.0\n",
      "agent 0 obatined a df of 8716782490.0\n",
      "agent 19 obatined a df of 8716782490.0\n",
      "agent 14 obatined a df of 8716782490.0\n",
      "agent 10 obatined a df of 8716782490.0\n",
      "agent 3 obatined a df of 8716782490.0\n",
      "agent 8 obatined a df of 8716782490.0\n",
      "agent 15 obatined a df of 8716782490.0\n",
      "agent 18 obatined a df of 8716782490.0\n",
      "agent 1 obatined a df of 8716782490.0\n",
      "resulting df: [8.71678249e+09 8.71678249e+09 0.00000000e+00 8.71678249e+09\n",
      " 8.71678249e+09 8.71678249e+09 8.71678249e+09 0.00000000e+00\n",
      " 8.71678249e+09 0.00000000e+00 8.71678249e+09 0.00000000e+00\n",
      " 8.71678249e+09 7.00000000e+01 8.71678249e+09 8.71678249e+09\n",
      " 8.71678249e+09 7.00000000e+01 8.71678249e+09 8.71678249e+09]\n",
      "\n",
      "resulting df: [8.71678249e+09 8.71678249e+09 0.00000000e+00 8.71678249e+09\n",
      " 8.71678249e+09 8.71678249e+09 8.71678249e+09 0.00000000e+00\n",
      " 8.71678249e+09 0.00000000e+00 8.71678249e+09 0.00000000e+00\n",
      " 8.71678249e+09 7.00000000e+01 8.71678249e+09 8.71678249e+09\n",
      " 8.71678249e+09 7.00000000e+01 8.71678249e+09 8.71678249e+09]\n",
      "\n",
      "resulting df: [8.71678249e+09 8.71678249e+09 0.00000000e+00 8.71678249e+09\n",
      " 8.71678249e+09 8.71678249e+09 8.71678249e+09 0.00000000e+00\n",
      " 8.71678249e+09 0.00000000e+00 8.71678249e+09 0.00000000e+00\n",
      " 8.71678249e+09 7.00000000e+01 8.71678249e+09 8.71678249e+09\n",
      " 8.71678249e+09 7.00000000e+01 8.71678249e+09 8.71678249e+09]\n",
      "\n",
      "resulting df: [8.71678249e+09 8.71678249e+09 0.00000000e+00 8.71678249e+09\n",
      " 8.71678249e+09 8.71678249e+09 8.71678249e+09 0.00000000e+00\n",
      " 8.71678249e+09 0.00000000e+00 8.71678249e+09 0.00000000e+00\n",
      " 8.71678249e+09 7.00000000e+01 8.71678249e+09 8.71678249e+09\n",
      " 8.71678249e+09 7.00000000e+01 8.71678249e+09 8.71678249e+09]\n",
      "\n",
      "agent 13 obatined a df of 290.0\n",
      "agent 17 obatined a df of 290.0\n",
      "resulting df: [8.71678249e+09 8.71678249e+09 0.00000000e+00 8.71678249e+09\n",
      " 8.71678249e+09 8.71678249e+09 8.71678249e+09 0.00000000e+00\n",
      " 8.71678249e+09 0.00000000e+00 8.71678249e+09 0.00000000e+00\n",
      " 8.71678249e+09 2.90000000e+02 8.71678249e+09 8.71678249e+09\n",
      " 8.71678249e+09 2.90000000e+02 8.71678249e+09 8.71678249e+09]\n",
      "\n"
     ]
    },
    {
     "data": {
      "text/plain": [
       "(array([6.2262732e+08, 6.2262732e+08, 0.0000000e+00, 6.2262732e+08,\n",
       "        6.2262732e+08, 6.2262732e+08, 6.2262732e+08, 0.0000000e+00,\n",
       "        6.2262732e+08, 0.0000000e+00, 6.2262732e+08, 0.0000000e+00,\n",
       "        6.2262732e+08, 1.4000000e+02, 6.2262732e+08, 6.2262732e+08,\n",
       "        6.2262732e+08, 1.4000000e+02, 6.2262732e+08, 6.2262732e+08]),\n",
       " array([8.71678249e+09, 8.71678249e+09, 0.00000000e+00, 8.71678249e+09,\n",
       "        8.71678249e+09, 8.71678249e+09, 8.71678249e+09, 0.00000000e+00,\n",
       "        8.71678249e+09, 0.00000000e+00, 8.71678249e+09, 0.00000000e+00,\n",
       "        8.71678249e+09, 2.90000000e+02, 8.71678249e+09, 8.71678249e+09,\n",
       "        8.71678249e+09, 2.90000000e+02, 8.71678249e+09, 8.71678249e+09]))"
      ]
     },
     "execution_count": 121,
     "metadata": {},
     "output_type": "execute_result"
    }
   ],
   "source": [
    "upd_df = update_driving_forces(driving_forces, opinions, clusters, opinions)\n",
    "upd_df"
   ]
  },
  {
   "cell_type": "code",
   "execution_count": null,
   "metadata": {},
   "outputs": [],
   "source": [
    "'''\n",
    "Given the current state, returns a new state\n",
    "\n",
    "Input: \n",
    "       -current_state: (agents' instrinsics, opinions, probabilities of change, driving forces)\n",
    "       -f:             the state transition function\n",
    "       \n",
    "Returns:\n",
    "       The new state f()\n",
    "'''\n",
    "# TODO: adapt this \n",
    "# You can choose whether to unpack current_state or not\n",
    "def update_state(current_state, f):\n",
    "    return f(current_state)\n",
    "\n",
    "\n",
    "'''\n",
    "You can define state transition functions here\n",
    "'''\n",
    "def transition_function(state):\n",
    "    pass"
   ]
  },
  {
   "cell_type": "code",
   "execution_count": 122,
   "metadata": {},
   "outputs": [],
   "source": [
    "'''\n",
    "Part of modelling the transition function\n",
    "\n",
    "'''\n",
    "def normalise_driving_force(driving_forces):\n",
    "    hi = k_alpha*len(driving_forces) \n",
    "    lo = None\n",
    "\n",
    "    driving_force_normed = driving_forces/hi\n",
    "    probability = math.erf(driving_force_normed[0])\n",
    "    print(driving_force_norm[0], probability)\n",
    "\n",
    "\n",
    "'''\n",
    "compute the probability of change given a driving force    \n",
    "'''\n",
    "def change_probs(driving_force, hi, lo=None):\n",
    "    probs = np.zeros(len(driving_force))\n",
    "    for i in range(len(driving_force)):\n",
    "        if agents[i] < hi:\n",
    "            probs[i] = math.erf(driving_force[i])#norm.ppf(agents[i])\n",
    "        else:\n",
    "            probs[i] = math.erf(hi)\n",
    "    return probs\n",
    "\n",
    "'''\n",
    "The new opinion {x} of an agent given the prob. of change {p}\n",
    "\n",
    "Can serve as a state transition function\n",
    "'''\n",
    "def opinion(x, p):\n",
    "    res = (np.random.rand(1))[0]\n",
    "    return 1-x if res < p else x"
   ]
  },
  {
   "cell_type": "code",
   "execution_count": 192,
   "metadata": {},
   "outputs": [
    {
     "data": {
      "text/plain": [
       "[1, 0, 1, 0, 1, 0, 0, 1, 0, 0, 0, 0, 0, 0, 1, 0, 1, 1, 0, 0]"
      ]
     },
     "execution_count": 192,
     "metadata": {},
     "output_type": "execute_result"
    }
   ],
   "source": [
    "#update_state((updated_agents, probs), opinion)"
   ]
  },
  {
   "cell_type": "markdown",
   "metadata": {},
   "source": [
    "<h1>Section 3: Simulation<h1>\n",
    "    1.Preprocessing (e.g. what graph models to use)<br>\n",
    "    2.Simulate the model and visualise the result (e.g. for each timestep)"
   ]
  },
  {
   "cell_type": "code",
   "execution_count": null,
   "metadata": {},
   "outputs": [],
   "source": [
    "# Simulation configs\n",
    "num_steps = 42\n",
    "visualise_per = 5\n",
    "\n",
    "# Simulation loop, e.g.\n",
    "#\n",
    "# model = preprocess(data)\n",
    "#\n",
    "# clusters, driving_forces, agents, opinions = create_clusters(num_clusters, num_agents)\n",
    "# current_state = (clusters, driving_forces, agents, opinions)\n",
    "#\n",
    "# for i in range(num_steps):\n",
    "#    if i % visualise_per = 0:\n",
    "#       visualise(current_state)\n",
    "#    current_state = update_state(current_state, transition_function)\n",
    "#\n",
    "# graph = to_graph(current_state)\n",
    "# save_graph(graph, graph_name, save_path)\n",
    "#\n",
    "#\n",
    "#\n",
    "# Note that in the current version we need to convert the current state to a graph\n",
    "# first in order to visualise it -> maybe improve this\n",
    "\n",
    "    \n",
    "\n",
    "\n",
    "\n"
   ]
  }
 ],
 "metadata": {
  "kernelspec": {
   "display_name": "Python 3 (ipykernel)",
   "language": "python",
   "name": "python3"
  },
  "language_info": {
   "codemirror_mode": {
    "name": "ipython",
    "version": 3
   },
   "file_extension": ".py",
   "mimetype": "text/x-python",
   "name": "python",
   "nbconvert_exporter": "python",
   "pygments_lexer": "ipython3",
   "version": "3.9.7"
  }
 },
 "nbformat": 4,
 "nbformat_minor": 4
}
