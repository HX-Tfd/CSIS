{
  "cells": [
    {
      "cell_type": "markdown",
      "metadata": {
        "id": "UiGnwk7irGMj"
      },
      "source": [
        "<h1>Section 1: Graph-Tool<h1>\n",
        "        This section includes testing of the basic Graph-Tool functionalities"
      ]
    },
    {
      "cell_type": "code",
      "execution_count": null,
      "metadata": {
        "colab": {
          "base_uri": "https://localhost:8080/",
          "height": 300
        },
        "id": "HF8Oi8WvrGMk",
        "outputId": "30601c16-d7cc-44e2-9f95-45f034f9867d"
      },
      "outputs": [
        {
          "name": "stderr",
          "output_type": "stream",
          "text": [
            "\n",
            "(ipykernel_launcher.py:53375): Gtk-WARNING **: 10:29:16.602: Locale not supported by C library.\n",
            "\tUsing the fallback 'C' locale.\n",
            "objc[53375]: Class GNotificationCenterDelegate is implemented in both /Users/xihan/miniconda3/envs/gt/lib/libgio-2.0.0.dylib (0x1a5970b50) and /usr/local/opt/glib/lib/libgio-2.0.0.dylib (0x1a9e09330). One of the two will be used. Which one is undefined.\n"
          ]
        }
      ],
      "source": [
        "from graph_tool.all import *"
      ]
    },
    {
      "cell_type": "code",
      "execution_count": null,
      "metadata": {
        "id": "H5-qskHerGMk"
      },
      "outputs": [],
      "source": [
        "g = Graph(directed=False)\n",
        "v1 = g.add_vertex()\n",
        "v2 = g.add_vertex()\n",
        "v3 = g.add_vertex()\n",
        "e1 = g.add_edge(v1, v2)\n",
        "e2 = g.add_edge(v1, v3)"
      ]
    },
    {
      "cell_type": "code",
      "execution_count": null,
      "metadata": {
        "id": "jcmJcEn6rGMl"
      },
      "outputs": [],
      "source": [
        "graph_draw(g, vertex_text=g.vertex_index, output=\"two-nodes.pdf\")"
      ]
    },
    {
      "cell_type": "code",
      "execution_count": null,
      "metadata": {
        "id": "TphcqpZLrGMl",
        "outputId": "224fc178-11fd-4f90-9543-da5f68cdcba3"
      },
      "outputs": [
        {
          "name": "stdout",
          "output_type": "stream",
          "text": [
            "2\n",
            "0 1\n"
          ]
        }
      ],
      "source": [
        "print(v1.out_degree())\n",
        "print(e1.source(), e1.target())"
      ]
    },
    {
      "cell_type": "code",
      "execution_count": null,
      "metadata": {
        "id": "5PjdbyyBrGMl",
        "outputId": "8226211d-d604-4e7a-cdcd-2fee920d7ebf"
      },
      "outputs": [
        {
          "name": "stdout",
          "output_type": "stream",
          "text": [
            "10\n"
          ]
        }
      ],
      "source": [
        "vlist = g.add_vertex(10)\n",
        "print(len(list(vlist)))"
      ]
    },
    {
      "cell_type": "code",
      "execution_count": null,
      "metadata": {
        "id": "fEBIv5-grGMl"
      },
      "outputs": [],
      "source": [
        "e3 = g.add_edge(4, 5)"
      ]
    },
    {
      "cell_type": "code",
      "execution_count": null,
      "metadata": {
        "id": "re-BwTCprGMl",
        "outputId": "7888585e-edc0-424f-fcbf-0ba2e28f5ebb"
      },
      "outputs": [
        {
          "name": "stdout",
          "output_type": "stream",
          "text": [
            "0\n",
            "1\n",
            "2\n",
            "3\n",
            "4\n",
            "5\n",
            "6\n",
            "7\n",
            "8\n",
            "9\n",
            "10\n",
            "11\n",
            "12\n",
            "[0, 1]\n",
            "[0, 2]\n",
            "[4, 5]\n"
          ]
        }
      ],
      "source": [
        "for v in g.iter_vertices():\n",
        "    print(v)\n",
        "for e in g.iter_edges():\n",
        "    print(e)\n",
        "    "
      ]
    },
    {
      "cell_type": "code",
      "execution_count": null,
      "metadata": {
        "id": "uWWw3i6crGMm",
        "outputId": "30a184c7-de73-40e5-ec1f-cf40d78ed4b7"
      },
      "outputs": [
        {
          "data": {
            "text/plain": [
              "array([2, 1, 1, 0, 1, 1, 0, 0, 0, 0, 0, 0, 0], dtype=uint64)"
            ]
          },
          "execution_count": 7,
          "metadata": {},
          "output_type": "execute_result"
        }
      ],
      "source": [
        "g.get_out_degrees(g.get_vertices())"
      ]
    },
    {
      "cell_type": "code",
      "execution_count": null,
      "metadata": {
        "id": "-2q4mDaxrGMm",
        "outputId": "45f5d5cf-244f-4246-ba75-912992033025"
      },
      "outputs": [
        {
          "name": "stdout",
          "output_type": "stream",
          "text": [
            "edges added:\n",
            "[6, 7]\n",
            "[15, 98]\n",
            "[18, 27]\n",
            "[39, 22]\n",
            "[50, 26]\n",
            "[54, 10]\n",
            "[71, 78]\n",
            "[73, 7]\n",
            "[75, 84]\n",
            "[79, 25]\n",
            "property of vertex 10: 3.1416\n",
            "property of vertex 40: array([ 1,  3, 42, 54], dtype=int32)\n",
            "property of edge (6, 7): {'name': 'foo', 'weight': 42}\n"
          ]
        }
      ],
      "source": [
        "from numpy.random import randint\n",
        "\n",
        "g = Graph()\n",
        "g.add_vertex(100)\n",
        "\n",
        "# insert some random links\n",
        "num_edges = 10\n",
        "for s,t in zip(randint(0, 100, num_edges), randint(0, 100, num_edges)):\n",
        "    g.add_edge(g.vertex(s), g.vertex(t))\n",
        "    \n",
        "#print edges\n",
        "print(\"edges added:\")\n",
        "for i in g.iter_edges():\n",
        "    print(i)\n",
        "\n",
        "vprop_double = g.new_vertex_property(\"double\")            # Double-precision floating point\n",
        "v = g.vertex(10)\n",
        "vprop_double[v] = 3.1416\n",
        "print(\"property of vertex {}: {}\".format(v, vprop_double[v]))\n",
        "\n",
        "vprop_vint = g.new_vertex_property(\"vector<int>\")         # Vector of ints\n",
        "v = g.vertex(40)\n",
        "vprop_vint[v] = [1, 3, 42, 54]\n",
        "print(\"property of vertex {}: {}\".format(v, vprop_vint[v]))\n",
        "\n",
        "eprop_dict = g.new_edge_property(\"object\")                # Arbitrary Python object.\n",
        "e = g.edges().next()\n",
        "eprop_dict[e] = {\"name\": \"foo\", \"weight\": 42} \n",
        "print(\"property of edge {}: {}\".format(e, eprop_dict[e]))\n",
        "\n",
        "gprop_bool = g.new_graph_property(\"bool\")                 # Boolean\n",
        "gprop_bool[g] = True\n"
      ]
    },
    {
      "cell_type": "code",
      "execution_count": null,
      "metadata": {
        "id": "6cfovHSMrGMm",
        "outputId": "2ff82e7f-ad2f-45ce-ec02-615b6b3a74a6"
      },
      "outputs": [
        {
          "name": "stdout",
          "output_type": "stream",
          "text": [
            "int 0\n",
            "vector<int> array([], dtype=int32)\n",
            "double 0.0\n",
            "vector<double> array([], dtype=float64)\n",
            "object None\n",
            "bool 0\n"
          ]
        }
      ],
      "source": [
        "# See what the initializations are for each of the graph properties\n",
        "for prop in [\"int\", \"vector<int>\", \"double\", \"vector<double>\", \"object\", \"bool\"]:\n",
        "    gprop = g.new_graph_property(prop)\n",
        "    g.graph_properties[\"custom property\"] = gprop\n",
        "    print(prop, g.graph_properties[\"custom property\"])"
      ]
    },
    {
      "cell_type": "code",
      "execution_count": null,
      "metadata": {
        "id": "7644WR4CrGMn",
        "outputId": "0ab3d77d-5f9b-4c61-9064-59c276a7df9e"
      },
      "outputs": [
        {
          "name": "stdout",
          "output_type": "stream",
          "text": [
            "1\n"
          ]
        }
      ],
      "source": [
        "g.vp.custom_property = vprop = g.new_vertex_property(\"bool\")\n",
        "g.vp.custom_property[g.vertex(0)] = True\n",
        "print(g.vp.custom_property[g.vertex(0)])"
      ]
    },
    {
      "cell_type": "code",
      "execution_count": null,
      "metadata": {
        "id": "29sU2I63rGMn"
      },
      "outputs": [],
      "source": [
        "import os\n",
        "working_dir = '.' #placeholder\n",
        "\n",
        "'''\n",
        "Saves the graph g to {target path} with name {name}\n",
        "'''\n",
        "def save_graph(g, name, target_path):\n",
        "    abs_path = os.path.join(working_dir, target_path)\n",
        "    g.save(\"{}.xml.gz\".format(name))\n",
        "    \n",
        "\n",
        "'''\n",
        "Loads the graph g from {source path} \n",
        "\n",
        "Returns: the loaded graph \n",
        "'''\n",
        "def load_graph(source_path):\n",
        "    return load_graph(source_path)\n"
      ]
    },
    {
      "cell_type": "code",
      "execution_count": null,
      "metadata": {
        "id": "s38x-63krGMn"
      },
      "outputs": [],
      "source": [
        "'''\n",
        "converts the following to a unified graph:\n",
        "    \n",
        "    - agent ids\n",
        "    - agent intrinsics\n",
        "    - driving forces\n",
        "    - opinion\n",
        "    \n",
        "Input:\n",
        "\n",
        "    agents:          numpy array of agent intrinsics\n",
        "    clusters:        {\"cluster_i\": a list of agent ids}\n",
        "    driving_forces:  numpy array of the driving forces\n",
        "    opinions:        binary numpy array of the opinions\n",
        "    \n",
        "'''\n",
        "def to_graph(agents, clusters, driving_forces, opinions):\n",
        "    pass\n",
        "    "
      ]
    },
    {
      "cell_type": "markdown",
      "metadata": {
        "id": "bOv9TMLgrGMn"
      },
      "source": [
        "<h2>Section 2: the model will be implemented here<h2>"
      ]
    },
    {
      "cell_type": "code",
      "execution_count": 3,
      "metadata": {
        "id": "h6gJ-VQwrGMn"
      },
      "outputs": [],
      "source": [
        "import numpy as np\n",
        "import scipy\n",
        "from scipy.stats import norm\n",
        "import math"
      ]
    },
    {
      "cell_type": "code",
      "execution_count": 4,
      "metadata": {
        "id": "zcKLHPDtrGMo"
      },
      "outputs": [],
      "source": [
        "'''\n",
        "Global configurations\n",
        "'''\n",
        "k_alpha = 1\n",
        "k_beta = .5\n",
        "E_profit = 10\n",
        "K_self_coupling = -2\n",
        "\n",
        "num_clusters = 5\n",
        "num_agents = 20"
      ]
    },
    {
      "cell_type": "code",
      "execution_count": 1,
      "metadata": {
        "id": "44ntdU6DrGMo"
      },
      "outputs": [],
      "source": [
        "from random import randint\n",
        "\n",
        "# partition functions\n",
        "\n",
        "import random \n",
        "def partition_uniform_random (num_agents, n):\n",
        "    l = list(range(num_agents))\n",
        "    random.shuffle(l)\n",
        "    return [l[i::n] for i in range(n)]\n",
        "\n",
        "\n",
        "'''\n",
        "Create {num_clusters} random clusters\n",
        "if cluster_specific = True, use initialise_driving_force() to initialise cluster-specific driving force\n",
        "\n",
        "Returns: \n",
        "           cluster_elements:  {\"cluster_i\": numpy array of agent ids in cluster i}\n",
        "           driving_forces:    numpy array of driving forces (properly-/0-initialised)\n",
        "           agents:            numpy array of agent intrinsics\n",
        "           opinions:          a numpy binary array of the opinions\n",
        "\n",
        "'''\n",
        "\n",
        "def create_clusters(num_clusters, num_agents, cluster_specific=False):\n",
        "    assert num_agents >= num_clusters >= 1\n",
        "  \n",
        "        \n",
        "    #initialise driving forces\n",
        "    if cluster_specific:\n",
        "        driving_forces = initialise_driving_forces(num_agents)\n",
        "    else:\n",
        "        driving_forces = np.zeros(num_agents)\n",
        "        \n",
        "    #initialise agents intrinsics\n",
        "    agents = initialise_agents(num_agents)\n",
        "    \n",
        "    cluster_elements = partition_uniform_random(num_agents, num_clusters)\n",
        "\n",
        "    #initialise opinions\n",
        "    opinions = initialise_opinions(num_agents)\n",
        "        \n",
        "    return cluster_elements, driving_forces, agents, opinions\n",
        "        \n",
        "    \n",
        "'''\n",
        "Initialises the driving forces for each agent in {agents}\n",
        "You can define initialization schemes here\n",
        "\n",
        "Retuns: a numpy array containing the driving force of each agent\n",
        "\n",
        "'''   \n",
        "def initialise_driving_forces(num_agents):\n",
        "    driving_forces = np.random.rand(num_agents) #hard-coded for now\n",
        "    return driving_forces\n",
        "    \n",
        "'''\n",
        "Initialises the intrinsics for each agent in {agents}\n",
        "You can define initialization schemes here\n",
        "\n",
        "Retuns: a numpy array containing the intrinsics of each agent\n",
        "'''\n",
        "def initialise_agents(num_agents):\n",
        "    return np.zeros(num_agents) #hard-coded for now\n",
        "\n",
        "\n",
        "'''\n",
        "Initialises the opinions for each agent in {agents}\n",
        "You can define initialization schemes here\n",
        "\n",
        "Retuns: a numpy array containing the opinions of each agent\n",
        "'''\n",
        "def initialise_opinions(num_agents):\n",
        "    return np.random.randint(2, size=num_agents) #hard-coded for now\n",
        "\n"
      ]
    },
    {
      "cell_type": "code",
      "execution_count": 5,
      "metadata": {
        "colab": {
          "base_uri": "https://localhost:8080/"
        },
        "id": "Gd1VtwgcrGMo",
        "outputId": "ccaf224e-153d-4340-d796-8a936a88e840"
      },
      "outputs": [
        {
          "name": "stdout",
          "output_type": "stream",
          "text": [
            "clusters: [[10, 15, 19, 1], [11, 18, 7, 17], [13, 8, 16, 9], [3, 6, 4, 5], [2, 14, 0, 12]]\n",
            "\n",
            " driving forces: [0. 0. 0. 0. 0. 0. 0. 0. 0. 0. 0. 0. 0. 0. 0. 0. 0. 0. 0. 0.]\n",
            "\n",
            " agents:[0. 0. 0. 0. 0. 0. 0. 0. 0. 0. 0. 0. 0. 0. 0. 0. 0. 0. 0. 0.]\n",
            "\n",
            " opinions:[0 1 1 1 1 0 0 1 0 0 1 1 1 0 0 0 1 0 0 0]\n"
          ]
        }
      ],
      "source": [
        "clusters, driving_forces, agents, opinions = create_clusters(num_clusters, num_agents)\n",
        "print(\"clusters: {}\\n\\n driving forces: {}\\n\\n agents:{}\\n\\n opinions:{}\".format(clusters, driving_forces, agents, opinions))"
      ]
    },
    {
      "cell_type": "code",
      "execution_count": null,
      "metadata": {
        "id": "gT-3SB3BrGMo"
      },
      "outputs": [],
      "source": [
        "'''\n",
        "    updates the agent intrinsics (optional), opinions and driving forces \n",
        "'''\n",
        "\n",
        "# TODO: need to fix this\n",
        "def update_driving_forces(driving_forces, agents, clusters, opinions, update_agents=False):\n",
        "    # update each cluster locally resp. each agent\n",
        "    print(\"updating clusters ...\")\n",
        "    updated_agents = np.zeros(len(driving_forces))\n",
        "    for n in range(len(clusters)):\n",
        "        print(\"cluster \", n)\n",
        "        agents_ids = clusters[\"cluster_{}\".format(n)]\n",
        "        cluster_size = len(agents_ids)\n",
        "        \n",
        "        # update the driving force of each agent in the current cluster\n",
        "        # based on the other agents in the cluster\n",
        "        \n",
        "        for a in agents_ids:\n",
        "            updated_agents[a] = np.sum([x for x in driving_forces[agents_ids] if x != a])\n",
        "            \n",
        "        for a in agents_ids:\n",
        "            driving_forces[a] = E_profit + np.sum(updated_agents[agents_ids]) * k_alpha\n",
        "            print(\"agent {} obtained a driving force of {}\".format(a, driving_forces[a]))\n",
        "        print(\"resulting global df: {}\\n\".format(driving_forces))\n",
        "        \n",
        "            \n",
        "    return updated_agents, driving_forces #currently it returns the unchanged agent intrinsics"
      ]
    },
    {
      "cell_type": "code",
      "execution_count": null,
      "metadata": {
        "colab": {
          "base_uri": "https://localhost:8080/"
        },
        "id": "2FWHItDtrGMo",
        "outputId": "8e9d74d3-c316-407b-f014-db0466575015"
      },
      "outputs": [
        {
          "name": "stdout",
          "output_type": "stream",
          "text": [
            "updating clusters ...\n",
            "cluster  0\n",
            "agent 11 obtained a df of 10.0\n",
            "agent 2 obtained a df of 10.0\n",
            "agent 9 obtained a df of 10.0\n",
            "agent 12 obtained a df of 10.0\n",
            "resulting global df: [ 0.  0. 10.  0.  0.  0.  0.  0.  0. 10.  0. 10. 10.  0.  0.  0.  0.  0.\n",
            "  0.  0.]\n",
            "\n",
            "cluster  1\n",
            "resulting global df: [ 0.  0. 10.  0.  0.  0.  0.  0.  0. 10.  0. 10. 10.  0.  0.  0.  0.  0.\n",
            "  0.  0.]\n",
            "\n",
            "cluster  2\n",
            "agent 7 obtained a df of 10.0\n",
            "agent 5 obtained a df of 10.0\n",
            "agent 0 obtained a df of 10.0\n",
            "agent 6 obtained a df of 10.0\n",
            "agent 13 obtained a df of 10.0\n",
            "agent 15 obtained a df of 10.0\n",
            "agent 18 obtained a df of 10.0\n",
            "resulting global df: [10.  0. 10.  0.  0. 10. 10. 10.  0. 10.  0. 10. 10. 10.  0. 10.  0.  0.\n",
            " 10.  0.]\n",
            "\n",
            "cluster  3\n",
            "agent 4 obtained a df of 10.0\n",
            "agent 3 obtained a df of 10.0\n",
            "agent 10 obtained a df of 10.0\n",
            "resulting global df: [10.  0. 10. 10. 10. 10. 10. 10.  0. 10. 10. 10. 10. 10.  0. 10.  0.  0.\n",
            " 10.  0.]\n",
            "\n",
            "cluster  4\n",
            "agent 17 obtained a df of 10.0\n",
            "agent 14 obtained a df of 10.0\n",
            "resulting global df: [10.  0. 10. 10. 10. 10. 10. 10.  0. 10. 10. 10. 10. 10. 10. 10.  0. 10.\n",
            " 10.  0.]\n",
            "\n"
          ]
        },
        {
          "data": {
            "text/plain": [
              "(array([0., 0., 0., 0., 0., 0., 0., 0., 0., 0., 0., 0., 0., 0., 0., 0., 0.,\n",
              "        0., 0., 0.]),\n",
              " array([10.,  0., 10., 10., 10., 10., 10., 10.,  0., 10., 10., 10., 10.,\n",
              "        10., 10., 10.,  0., 10., 10.,  0.]))"
            ]
          },
          "execution_count": 36,
          "metadata": {},
          "output_type": "execute_result"
        }
      ],
      "source": [
        "upd_agts, upd_df = update_driving_forces(driving_forces, opinions, clusters, opinions)\n",
        "upd_agts, upd_df"
      ]
    },
    {
      "cell_type": "code",
      "execution_count": null,
      "metadata": {
        "id": "SRWvmzFzrGMp"
      },
      "outputs": [],
      "source": [
        "'''\n",
        "Given the current state, returns a new state\n",
        "\n",
        "Input: \n",
        "       -current_state: (agents' instrinsics, opinions, probabilities of change, driving forces)\n",
        "       -f:             the state transition function\n",
        "       \n",
        "Returns:\n",
        "       The new state f(current_state)\n",
        "'''\n",
        "# TODO: adapt this \n",
        "# You can choose whether to unpack current_state or not\n",
        "def update_state(current_state):\n",
        "    return transition_funtion(current_state)\n",
        "\n",
        "\n",
        "'''\n",
        "You can define state transition functions here\n",
        "'''\n",
        "def transition_function(state):\n",
        "       agents = state[0]\n",
        "       hi = hi_calculation(state[3])\n",
        "       state[2] = change_probs(state[3])\n",
        "\n",
        "       for i in range(len(agents)): \n",
        "              new_opinion = opinion(state[1][i], updated_prob)\n",
        "              state[1][i] = new_opinion\n",
        "       return state\n"
      ]
    },
    {
      "cell_type": "code",
      "execution_count": null,
      "metadata": {
        "id": "ChiBMCPlrGMp"
      },
      "outputs": [],
      "source": [
        "'''\n",
        "Part of modelling the transition function\n",
        "\n",
        "'''\n",
        "def normalise_driving_force(driving_forces):\n",
        "    hi = k_alpha*len(driving_forces) \n",
        "    lo = None\n",
        "\n",
        "    driving_force_normed = driving_forces/hi\n",
        "    probability = math.erf(driving_force_normed[0])\n",
        "    print(driving_force_norm[0], probability)\n",
        "\n",
        "\n",
        "'''\n",
        "compute the probability of change given a driving force    \n",
        "'''\n",
        "def change_probs(driving_force, hi, lo=None):\n",
        "    probs = np.zeros(len(driving_force))\n",
        "    for i in range(len(driving_force)):\n",
        "        if agents[i] < hi:\n",
        "            probs[i] = math.erf(driving_force[i])#norm.ppf(agents[i])\n",
        "        else:\n",
        "            probs[i] = math.erf(hi)\n",
        "    return probs\n",
        "\n",
        "'''\n",
        "The new opinion {x} of an agent given the prob. of change {p}\n",
        "\n",
        "Can serve as a state transition function\n",
        "'''\n",
        "def opinion(x, p):\n",
        "    res = (np.random.rand(1))[0]\n",
        "    return 1-x if res < p else x"
      ]
    },
    {
      "cell_type": "code",
      "execution_count": null,
      "metadata": {
        "id": "YnZob_iNrGMp"
      },
      "outputs": [],
      "source": [
        "#update_state((updated_agents, probs), opinion)"
      ]
    },
    {
      "cell_type": "markdown",
      "metadata": {
        "id": "dN_Uxw9erGMp"
      },
      "source": [
        "<h1>Section 3: Simulation<h1>\n",
        "    1.Preprocessing (e.g. what graph models to use)<br>\n",
        "    2.Simulate the model and visualise the result (e.g. for each timestep)"
      ]
    },
    {
      "cell_type": "code",
      "execution_count": null,
      "metadata": {
        "id": "Xb01ZoRErGMq"
      },
      "outputs": [],
      "source": [
        "# Simulation configs\n",
        "num_steps = 42\n",
        "visualise_per = 5\n",
        "\n",
        "# Simulation loop, e.g.\n",
        "#\n",
        "# model = preprocess(data)\n",
        "#\n",
        "# clusters, driving_forces, agents, opinions = create_clusters(num_clusters, num_agents)\n",
        "# current_state = (clusters, driving_forces, agents, opinions)\n",
        "#\n",
        "# for i in range(num_steps):\n",
        "#    if i % visualise_per = 0:\n",
        "#       visualise(current_state)\n",
        "#    current_state = update_state(current_state, transition_function)\n",
        "#\n",
        "# graph = to_graph(current_state)\n",
        "# save_graph(graph, graph_name, save_path)\n",
        "#\n",
        "#\n",
        "#\n",
        "# Note that in the current version we need to convert the current state to a graph\n",
        "# first in order to visualise it -> maybe improve this\n",
        "\n"
      ]
    },
    {
      "cell_type": "code",
      "execution_count": null,
      "metadata": {
        "id": "vx7NKdVLtaZw"
      },
      "outputs": [],
      "source": [
        "# --test--  idea : visualize clusters individually\n",
        "    \n",
        "import matplotlib.pyplot as plt\n",
        "\n",
        "def visualise(current_state):\n",
        "  plt.figure(figsize=(20,10),dpi=80)\n",
        "  axes=plt.subplot(111)\n",
        "\n",
        "  for i in range(len(cluster)):\n",
        "    np.random.seed(2000)\n",
        "    y = np.random.standard_normal((1000, 2))\n",
        "    plt.figure(figsize=(7,5))\n",
        "    \n",
        "    # assign different colors to different opinion\n",
        "    plt.scatter(cluster[:, 0], cluster[:, 1], c=y, s=40, cmap=plt.cm.Spectral)\n",
        "    plt.grid(True)\n",
        "    plt.xlabel('1st')\n",
        "    plt.ylabel('2nd')\n",
        "    plt.title('cluster',i)\n",
        "    plt.show()\n",
        "\n",
        "# visualise(current_state)\n"
      ]
    }
  ],
  "metadata": {
    "colab": {
      "collapsed_sections": [],
      "name": "“main.ipynb”的副本",
      "provenance": []
    },
    "kernelspec": {
      "display_name": "Python 3 (ipykernel)",
      "language": "python",
      "name": "python3"
    },
    "language_info": {
      "codemirror_mode": {
        "name": "ipython",
        "version": 3
      },
      "file_extension": ".py",
      "mimetype": "text/x-python",
      "name": "python",
      "nbconvert_exporter": "python",
      "pygments_lexer": "ipython3",
      "version": "3.9.7"
    }
  },
  "nbformat": 4,
  "nbformat_minor": 0
}
