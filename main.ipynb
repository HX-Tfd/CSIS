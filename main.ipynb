{
  "nbformat": 4,
  "nbformat_minor": 0,
  "metadata": {
    "kernelspec": {
      "display_name": "Python 3 (ipykernel)",
      "language": "python",
      "name": "python3"
    },
    "language_info": {
      "codemirror_mode": {
        "name": "ipython",
        "version": 3
      },
      "file_extension": ".py",
      "mimetype": "text/x-python",
      "name": "python",
      "nbconvert_exporter": "python",
      "pygments_lexer": "ipython3",
      "version": "3.9.7"
    },
    "colab": {
      "name": "“main.ipynb”的副本",
      "provenance": [],
      "collapsed_sections": []
    }
  },
  "cells": [
    {
      "cell_type": "markdown",
      "metadata": {
        "id": "UiGnwk7irGMj"
      },
      "source": [
        "<h1>Section 1: Graph-Tool<h1>\n",
        "        This section includes testing of the basic Graph-Tool functionalities"
      ]
    },
    {
      "cell_type": "code",
      "metadata": {
        "id": "HF8Oi8WvrGMk",
        "colab": {
          "base_uri": "https://localhost:8080/",
          "height": 300
        },
        "outputId": "30601c16-d7cc-44e2-9f95-45f034f9867d"
      },
      "source": [
        "from graph_tool.all import *"
      ],
      "execution_count": null,
      "outputs": [
        {
          "output_type": "error",
          "ename": "ModuleNotFoundError",
          "evalue": "ignored",
          "traceback": [
            "\u001b[0;31m---------------------------------------------------------------------------\u001b[0m",
            "\u001b[0;31mModuleNotFoundError\u001b[0m                       Traceback (most recent call last)",
            "\u001b[0;32m<ipython-input-2-8cf026c95734>\u001b[0m in \u001b[0;36m<module>\u001b[0;34m()\u001b[0m\n\u001b[0;32m----> 1\u001b[0;31m \u001b[0;32mfrom\u001b[0m \u001b[0mgraph_tool\u001b[0m\u001b[0;34m.\u001b[0m\u001b[0mall\u001b[0m \u001b[0;32mimport\u001b[0m \u001b[0;34m*\u001b[0m\u001b[0;34m\u001b[0m\u001b[0;34m\u001b[0m\u001b[0m\n\u001b[0m",
            "\u001b[0;31mModuleNotFoundError\u001b[0m: No module named 'graph_tool'",
            "",
            "\u001b[0;31m---------------------------------------------------------------------------\u001b[0;32m\nNOTE: If your import is failing due to a missing package, you can\nmanually install dependencies using either !pip or !apt.\n\nTo view examples of installing some common dependencies, click the\n\"Open Examples\" button below.\n\u001b[0;31m---------------------------------------------------------------------------\u001b[0m\n"
          ],
          "errorDetails": {
            "actions": [
              {
                "action": "open_url",
                "actionText": "Open Examples",
                "url": "/notebooks/snippets/importing_libraries.ipynb"
              }
            ]
          }
        }
      ]
    },
    {
      "cell_type": "code",
      "metadata": {
        "id": "H5-qskHerGMk",
        "colab": {
          "base_uri": "https://localhost:8080/",
          "height": 232
        },
        "outputId": "21c1d01d-6560-4fb5-816d-f18533959e89"
      },
      "source": [
        "g = Graph(directed=False)\n",
        "v1 = g.add_vertex()\n",
        "v2 = g.add_vertex()\n",
        "v3 = g.add_vertex()\n",
        "e1 = g.add_edge(v1, v2)\n",
        "e2 = g.add_edge(v1, v3)"
      ],
      "execution_count": null,
      "outputs": [
        {
          "output_type": "error",
          "ename": "NameError",
          "evalue": "ignored",
          "traceback": [
            "\u001b[0;31m---------------------------------------------------------------------------\u001b[0m",
            "\u001b[0;31mNameError\u001b[0m                                 Traceback (most recent call last)",
            "\u001b[0;32m<ipython-input-3-ab8202f4eb35>\u001b[0m in \u001b[0;36m<module>\u001b[0;34m()\u001b[0m\n\u001b[0;32m----> 1\u001b[0;31m \u001b[0mg\u001b[0m \u001b[0;34m=\u001b[0m \u001b[0mGraph\u001b[0m\u001b[0;34m(\u001b[0m\u001b[0mdirected\u001b[0m\u001b[0;34m=\u001b[0m\u001b[0;32mFalse\u001b[0m\u001b[0;34m)\u001b[0m\u001b[0;34m\u001b[0m\u001b[0;34m\u001b[0m\u001b[0m\n\u001b[0m\u001b[1;32m      2\u001b[0m \u001b[0mv1\u001b[0m \u001b[0;34m=\u001b[0m \u001b[0mg\u001b[0m\u001b[0;34m.\u001b[0m\u001b[0madd_vertex\u001b[0m\u001b[0;34m(\u001b[0m\u001b[0;34m)\u001b[0m\u001b[0;34m\u001b[0m\u001b[0;34m\u001b[0m\u001b[0m\n\u001b[1;32m      3\u001b[0m \u001b[0mv2\u001b[0m \u001b[0;34m=\u001b[0m \u001b[0mg\u001b[0m\u001b[0;34m.\u001b[0m\u001b[0madd_vertex\u001b[0m\u001b[0;34m(\u001b[0m\u001b[0;34m)\u001b[0m\u001b[0;34m\u001b[0m\u001b[0;34m\u001b[0m\u001b[0m\n\u001b[1;32m      4\u001b[0m \u001b[0mv3\u001b[0m \u001b[0;34m=\u001b[0m \u001b[0mg\u001b[0m\u001b[0;34m.\u001b[0m\u001b[0madd_vertex\u001b[0m\u001b[0;34m(\u001b[0m\u001b[0;34m)\u001b[0m\u001b[0;34m\u001b[0m\u001b[0;34m\u001b[0m\u001b[0m\n\u001b[1;32m      5\u001b[0m \u001b[0me1\u001b[0m \u001b[0;34m=\u001b[0m \u001b[0mg\u001b[0m\u001b[0;34m.\u001b[0m\u001b[0madd_edge\u001b[0m\u001b[0;34m(\u001b[0m\u001b[0mv1\u001b[0m\u001b[0;34m,\u001b[0m \u001b[0mv2\u001b[0m\u001b[0;34m)\u001b[0m\u001b[0;34m\u001b[0m\u001b[0;34m\u001b[0m\u001b[0m\n",
            "\u001b[0;31mNameError\u001b[0m: name 'Graph' is not defined"
          ]
        }
      ]
    },
    {
      "cell_type": "code",
      "metadata": {
        "id": "jcmJcEn6rGMl"
      },
      "source": [
        "graph_draw(g, vertex_text=g.vertex_index, output=\"two-nodes.pdf\")"
      ],
      "execution_count": null,
      "outputs": []
    },
    {
      "cell_type": "code",
      "metadata": {
        "id": "TphcqpZLrGMl"
      },
      "source": [
        "print(v1.out_degree())\n",
        "print(e1.source(), e1.target())"
      ],
      "execution_count": null,
      "outputs": []
    },
    {
      "cell_type": "code",
      "metadata": {
        "id": "5PjdbyyBrGMl"
      },
      "source": [
        "vlist = g.add_vertex(10)\n",
        "print(len(list(vlist)))"
      ],
      "execution_count": null,
      "outputs": []
    },
    {
      "cell_type": "code",
      "metadata": {
        "id": "fEBIv5-grGMl"
      },
      "source": [
        "e3 = g.add_edge(4, 5)"
      ],
      "execution_count": null,
      "outputs": []
    },
    {
      "cell_type": "code",
      "metadata": {
        "id": "re-BwTCprGMl"
      },
      "source": [
        "for v in g.iter_vertices():\n",
        "    print(v)\n",
        "for e in g.iter_edges():\n",
        "    print(e)\n",
        "    "
      ],
      "execution_count": null,
      "outputs": []
    },
    {
      "cell_type": "code",
      "metadata": {
        "id": "uWWw3i6crGMm"
      },
      "source": [
        "g.get_out_degrees(g.get_vertices())"
      ],
      "execution_count": null,
      "outputs": []
    },
    {
      "cell_type": "code",
      "metadata": {
        "id": "-2q4mDaxrGMm"
      },
      "source": [
        "from numpy.random import randint\n",
        "\n",
        "g = Graph()\n",
        "g.add_vertex(100)\n",
        "\n",
        "# insert some random links\n",
        "num_edges = 10\n",
        "for s,t in zip(randint(0, 100, num_edges), randint(0, 100, num_edges)):\n",
        "    g.add_edge(g.vertex(s), g.vertex(t))\n",
        "    \n",
        "#print edges\n",
        "print(\"edges added:\")\n",
        "for i in g.iter_edges():\n",
        "    print(i)\n",
        "\n",
        "vprop_double = g.new_vertex_property(\"double\")            # Double-precision floating point\n",
        "v = g.vertex(10)\n",
        "vprop_double[v] = 3.1416\n",
        "print(\"property of vertex {}: {}\".format(v, vprop_double[v]))\n",
        "\n",
        "vprop_vint = g.new_vertex_property(\"vector<int>\")         # Vector of ints\n",
        "v = g.vertex(40)\n",
        "vprop_vint[v] = [1, 3, 42, 54]\n",
        "print(\"property of vertex {}: {}\".format(v, vprop_vint[v]))\n",
        "\n",
        "eprop_dict = g.new_edge_property(\"object\")                # Arbitrary Python object.\n",
        "e = g.edges().next()\n",
        "eprop_dict[e] = {\"name\": \"foo\", \"weight\": 42} \n",
        "print(\"property of edge {}: {}\".format(e, eprop_dict[e]))\n",
        "\n",
        "gprop_bool = g.new_graph_property(\"bool\")                 # Boolean\n",
        "gprop_bool[g] = True\n"
      ],
      "execution_count": null,
      "outputs": []
    },
    {
      "cell_type": "code",
      "metadata": {
        "id": "6cfovHSMrGMm"
      },
      "source": [
        "# See what the initializations are for each of the graph properties\n",
        "for prop in [\"int\", \"vector<int>\", \"double\", \"vector<double>\", \"object\", \"bool\"]:\n",
        "    gprop = g.new_graph_property(prop)\n",
        "    g.graph_properties[\"custom property\"] = gprop\n",
        "    print(prop, g.graph_properties[\"custom property\"])"
      ],
      "execution_count": null,
      "outputs": []
    },
    {
      "cell_type": "code",
      "metadata": {
        "id": "7644WR4CrGMn"
      },
      "source": [
        "g.vp.custom_property = vprop = g.new_vertex_property(\"bool\")\n",
        "g.vp.custom_property[g.vertex(0)] = True\n",
        "print(g.vp.custom_property[g.vertex(0)])"
      ],
      "execution_count": null,
      "outputs": []
    },
    {
      "cell_type": "code",
      "metadata": {
        "id": "29sU2I63rGMn"
      },
      "source": [
        "import os\n",
        "working_dir = '.' #placeholder\n",
        "\n",
        "'''\n",
        "Saves the graph g to {target path} with name {name}\n",
        "'''\n",
        "def save_graph(g, name, target_path):\n",
        "    abs_path = os.path.join(working_dir, target_path)\n",
        "    g.save(\"{}.xml.gz\".format(name))\n",
        "    \n",
        "\n",
        "'''\n",
        "Loads the graph g from {source path} \n",
        "\n",
        "Returns: the loaded graph \n",
        "'''\n",
        "def load_graph(source_path):\n",
        "    return load_graph(source_path)\n"
      ],
      "execution_count": null,
      "outputs": []
    },
    {
      "cell_type": "code",
      "metadata": {
        "id": "s38x-63krGMn"
      },
      "source": [
        "'''\n",
        "converts the following to a unified graph:\n",
        "    \n",
        "    - agent ids\n",
        "    - agent intrinsics\n",
        "    - driving forces\n",
        "    - opinion\n",
        "    \n",
        "Input:\n",
        "\n",
        "    agents:          numpy array of agent intrinsics\n",
        "    clusters:        {\"cluster_i\": a list of agent ids}\n",
        "    driving_forces:  numpy array of the driving forces\n",
        "    opinions:        binary numpy array of the opinions\n",
        "    \n",
        "'''\n",
        "def to_graph(agents, clusters, driving_forces, opinions):\n",
        "    pass\n",
        "    "
      ],
      "execution_count": null,
      "outputs": []
    },
    {
      "cell_type": "markdown",
      "metadata": {
        "id": "bOv9TMLgrGMn"
      },
      "source": [
        "<h2>Section 2: the model will be implemented here<h2>"
      ]
    },
    {
      "cell_type": "code",
      "metadata": {
        "id": "h6gJ-VQwrGMn"
      },
      "source": [
        "import numpy as np\n",
        "import scipy\n",
        "from scipy.stats import norm\n",
        "import math"
      ],
      "execution_count": 1,
      "outputs": []
    },
    {
      "cell_type": "code",
      "metadata": {
        "id": "zcKLHPDtrGMo"
      },
      "source": [
        "'''\n",
        "Global configurations\n",
        "'''\n",
        "k_alpha = 1\n",
        "k_beta = .5\n",
        "E_profit = 10\n",
        "K_self_coupling = -2\n",
        "\n",
        "num_clusters = 5\n",
        "num_agents = 20"
      ],
      "execution_count": 2,
      "outputs": []
    },
    {
      "cell_type": "code",
      "metadata": {
        "id": "44ntdU6DrGMo"
      },
      "source": [
        "from random import randint\n",
        "\n",
        "# partition functions\n",
        "\n",
        "import random \n",
        "def partition_uniform_random (num_agents, n):\n",
        "    l = list(range(num_agents))\n",
        "    random.shuffle(l)\n",
        "    return [l[i::n] for i in range(n)]\n",
        "\n",
        "\n",
        "'''\n",
        "Create {num_clusters} random clusters\n",
        "if cluster_specific = True, use initialise_driving_force() to initialise cluster-specific driving force\n",
        "\n",
        "Returns: \n",
        "           cluster_elements:  {\"cluster_i\": numpy array of agent ids in cluster i}\n",
        "           driving_forces:    numpy array of driving forces (properly-/0-initialised)\n",
        "           agents:            numpy array of agent intrinsics\n",
        "           opinions:          a numpy binary array of the opinions\n",
        "\n",
        "'''\n",
        "\n",
        "def create_clusters(num_clusters, num_agents, cluster_specific=False):\n",
        "    assert num_agents >= num_clusters >= 1\n",
        "  \n",
        "        \n",
        "    #initialise driving forces\n",
        "    if cluster_specific:\n",
        "        driving_forces = initialise_driving_forces(num_agents)\n",
        "    else:\n",
        "        driving_forces = np.zeros(num_agents)\n",
        "        \n",
        "    #initialise agents intrinsics\n",
        "    agents = initialise_agents(num_agents)\n",
        "    \n",
        "     # TODO: needs better random partition\n",
        "    cluster_elements = partition_uniform_random(num_agents, num_clusters)\n",
        "\n",
        "    #initialise opinions\n",
        "    opinions = initialise_opinions(num_agents)\n",
        "        \n",
        "    return cluster_elements, driving_forces, agents, opinions\n",
        "        \n",
        "    \n",
        "'''\n",
        "Initialises the driving forces for each agent in {agents}\n",
        "You can define initialization schemes here\n",
        "\n",
        "Retuns: a numpy array containing the driving force of each agent\n",
        "\n",
        "'''   \n",
        "def initialise_driving_forces(num_agents):\n",
        "    driving_forces = np.random.rand(num_agents) #hard-coded for now\n",
        "    return driving_forces\n",
        "    \n",
        "'''\n",
        "Initialises the intrinsics for each agent in {agents}\n",
        "You can define initialization schemes here\n",
        "\n",
        "Retuns: a numpy array containing the intrinsics of each agent\n",
        "'''\n",
        "def initialise_agents(num_agents):\n",
        "    return np.zeros(num_agents) #hard-coded for now\n",
        "\n",
        "\n",
        "'''\n",
        "Initialises the opinions for each agent in {agents}\n",
        "You can define initialization schemes here\n",
        "\n",
        "Retuns: a numpy array containing the opinions of each agent\n",
        "'''\n",
        "def initialise_opinions(num_agents):\n",
        "    return np.random.randint(2, size=num_agents) #hard-coded for now\n",
        "\n"
      ],
      "execution_count": 45,
      "outputs": []
    },
    {
      "cell_type": "code",
      "metadata": {
        "id": "Gd1VtwgcrGMo",
        "colab": {
          "base_uri": "https://localhost:8080/"
        },
        "outputId": "080410db-f681-4e97-e43d-ff01443be5a2"
      },
      "source": [
        "clusters, driving_forces, agents, opinions = create_clusters(num_clusters, num_agents)\n",
        "print(\"clusters: {}\\n\\n driving forces: {}\\n\\n agents:{}\\n\\n opinions:{}\".format(clusters, driving_forces, agents, opinions))"
      ],
      "execution_count": 46,
      "outputs": [
        {
          "output_type": "stream",
          "name": "stdout",
          "text": [
            "clusters: [[17, 10, 2, 12], [3, 5, 19, 11], [15, 6, 9, 0], [14, 13, 4, 8], [7, 18, 1, 16]]\n",
            "\n",
            " driving forces: [0. 0. 0. 0. 0. 0. 0. 0. 0. 0. 0. 0. 0. 0. 0. 0. 0. 0. 0. 0.]\n",
            "\n",
            " agents:[0. 0. 0. 0. 0. 0. 0. 0. 0. 0. 0. 0. 0. 0. 0. 0. 0. 0. 0. 0.]\n",
            "\n",
            " opinions:[1 0 1 1 0 0 1 1 1 1 0 1 0 1 0 1 1 1 1 0]\n"
          ]
        }
      ]
    },
    {
      "cell_type": "code",
      "metadata": {
        "id": "gT-3SB3BrGMo"
      },
      "source": [
        "'''\n",
        "    updates the agent intrinsics (optional), opinions and driving forces \n",
        "'''\n",
        "\n",
        "# TODO: need to fix this\n",
        "def update_driving_forces(driving_forces, agents, clusters, opinions):\n",
        "    # update each cluster locally\n",
        "    updated_agents = np.zeros(len(driving_forces))\n",
        "    for n in range(len(clusters)):\n",
        "        agents_ids = clusters[\"cluster_{}\".format(n)]\n",
        "        cluster_size = len(agents_ids)\n",
        "        \n",
        "        # update the driving force of each agent in the current cluster\n",
        "        # based on the other agents in the cluster\n",
        "        \n",
        "#         for a in agents_ids:\n",
        "#             updated_agents[a] = np.sum([x for x in driving_forces[agents_ids] if x != a])\n",
        "            \n",
        "#         for a in agents_ids:\n",
        "#             driving_forces[a] = E_profit + np.sum(updated_agents[agents_ids]) * k_alpha\n",
        "#             print(\"agent {} obatined a df of {}\".format(a, driving_forces[a]))\n",
        "#         print(\"resulting df: {}\\n\".format(driving_forces))\n",
        "            \n",
        "    return updated_agents, driving_forces"
      ],
      "execution_count": null,
      "outputs": []
    },
    {
      "cell_type": "code",
      "metadata": {
        "id": "2FWHItDtrGMo",
        "colab": {
          "base_uri": "https://localhost:8080/"
        },
        "outputId": "8e9d74d3-c316-407b-f014-db0466575015"
      },
      "source": [
        "upd_df = update_driving_forces(driving_forces, opinions, clusters, opinions)\n",
        "upd_df"
      ],
      "execution_count": null,
      "outputs": [
        {
          "output_type": "execute_result",
          "data": {
            "text/plain": [
              "(array([0., 0., 0., 0., 0., 0., 0., 0., 0., 0., 0., 0., 0., 0., 0., 0., 0.,\n",
              "        0., 0., 0.]),\n",
              " array([0., 0., 0., 0., 0., 0., 0., 0., 0., 0., 0., 0., 0., 0., 0., 0., 0.,\n",
              "        0., 0., 0.]))"
            ]
          },
          "metadata": {},
          "execution_count": 24
        }
      ]
    },
    {
      "cell_type": "code",
      "metadata": {
        "id": "SRWvmzFzrGMp"
      },
      "source": [
        "'''\n",
        "Given the current state, returns a new state\n",
        "\n",
        "Input: \n",
        "       -current_state: (agents' instrinsics, opinions, probabilities of change, driving forces)\n",
        "       -f:             the state transition function\n",
        "       \n",
        "Returns:\n",
        "       The new state f()\n",
        "'''\n",
        "# TODO: adapt this \n",
        "# You can choose whether to unpack current_state or not\n",
        "def update_state(current_state, f):\n",
        "    return f(current_state)\n",
        "\n",
        "\n",
        "'''\n",
        "You can define state transition functions here\n",
        "'''\n",
        "def transition_function(state):\n",
        "    pass"
      ],
      "execution_count": null,
      "outputs": []
    },
    {
      "cell_type": "code",
      "metadata": {
        "id": "ChiBMCPlrGMp"
      },
      "source": [
        "'''\n",
        "Part of modelling the transition function\n",
        "\n",
        "'''\n",
        "def normalise_driving_force(driving_forces):\n",
        "    hi = k_alpha*len(driving_forces) \n",
        "    lo = None\n",
        "\n",
        "    driving_force_normed = driving_forces/hi\n",
        "    probability = math.erf(driving_force_normed[0])\n",
        "    print(driving_force_norm[0], probability)\n",
        "\n",
        "\n",
        "'''\n",
        "compute the probability of change given a driving force    \n",
        "'''\n",
        "def change_probs(driving_force, hi, lo=None):\n",
        "    probs = np.zeros(len(driving_force))\n",
        "    for i in range(len(driving_force)):\n",
        "        if agents[i] < hi:\n",
        "            probs[i] = math.erf(driving_force[i])#norm.ppf(agents[i])\n",
        "        else:\n",
        "            probs[i] = math.erf(hi)\n",
        "    return probs\n",
        "\n",
        "'''\n",
        "The new opinion {x} of an agent given the prob. of change {p}\n",
        "\n",
        "Can serve as a state transition function\n",
        "'''\n",
        "def opinion(x, p):\n",
        "    res = (np.random.rand(1))[0]\n",
        "    return 1-x if res < p else x"
      ],
      "execution_count": null,
      "outputs": []
    },
    {
      "cell_type": "code",
      "metadata": {
        "id": "YnZob_iNrGMp"
      },
      "source": [
        "#update_state((updated_agents, probs), opinion)"
      ],
      "execution_count": null,
      "outputs": []
    },
    {
      "cell_type": "markdown",
      "metadata": {
        "id": "dN_Uxw9erGMp"
      },
      "source": [
        "<h1>Section 3: Simulation<h1>\n",
        "    1.Preprocessing (e.g. what graph models to use)<br>\n",
        "    2.Simulate the model and visualise the result (e.g. for each timestep)"
      ]
    },
    {
      "cell_type": "code",
      "metadata": {
        "id": "Xb01ZoRErGMq"
      },
      "source": [
        "# Simulation configs\n",
        "num_steps = 42\n",
        "visualise_per = 5\n",
        "\n",
        "# Simulation loop, e.g.\n",
        "#\n",
        "# model = preprocess(data)\n",
        "#\n",
        "# clusters, driving_forces, agents, opinions = create_clusters(num_clusters, num_agents)\n",
        "# current_state = (clusters, driving_forces, agents, opinions)\n",
        "#\n",
        "# for i in range(num_steps):\n",
        "#    if i % visualise_per = 0:\n",
        "#       visualise(current_state)\n",
        "#    current_state = update_state(current_state, transition_function)\n",
        "#\n",
        "# graph = to_graph(current_state)\n",
        "# save_graph(graph, graph_name, save_path)\n",
        "#\n",
        "#\n",
        "#\n",
        "# Note that in the current version we need to convert the current state to a graph\n",
        "# first in order to visualise it -> maybe improve this\n",
        "\n"
      ],
      "execution_count": null,
      "outputs": []
    },
    {
      "cell_type": "code",
      "metadata": {
        "id": "vx7NKdVLtaZw"
      },
      "source": [
        "# --test--  idea : visualize clusters individually\n",
        "    \n",
        "import matplotlib.pyplot as plt\n",
        "\n",
        "def visualise(current_state):\n",
        "  plt.figure(figsize=(20,10),dpi=80)\n",
        "  axes=plt.subplot(111)\n",
        "\n",
        "  for i in range(len(cluster)):\n",
        "    np.random.seed(2000)\n",
        "    y = np.random.standard_normal((1000, 2))\n",
        "    plt.figure(figsize=(7,5))\n",
        "    \n",
        "    # assign different colors to different opinion\n",
        "    plt.scatter(cluster[:, 0], cluster[:, 1], c=y, s=40, cmap=plt.cm.Spectral)\n",
        "    plt.grid(True)\n",
        "    plt.xlabel('1st')\n",
        "    plt.ylabel('2nd')\n",
        "    plt.title('cluster',i)\n",
        "    plt.show()\n",
        "\n",
        "# visualise(current_state)\n"
      ],
      "execution_count": null,
      "outputs": []
    }
  ]
}