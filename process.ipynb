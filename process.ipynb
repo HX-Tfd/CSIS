{
  "nbformat": 4,
  "nbformat_minor": 0,
  "metadata": {
    "colab": {
      "name": "process.ipynb",
      "provenance": [],
      "collapsed_sections": [
        "WWq2YOz9bmJq",
        "9Wl1Aa4IN45K",
        "fLxoj_r7Orl6"
      ]
    },
    "kernelspec": {
      "name": "python3",
      "display_name": "Python 3"
    },
    "language_info": {
      "name": "python"
    }
  },
  "cells": [
    {
      "cell_type": "markdown",
      "metadata": {
        "id": "WWq2YOz9bmJq"
      },
      "source": [
        "#**read the csv file as dataframe**"
      ]
    },
    {
      "cell_type": "code",
      "metadata": {
        "colab": {
          "base_uri": "https://localhost:8080/",
          "height": 436
        },
        "id": "VqbWj1M9byxA",
        "outputId": "a1a29862-031d-4b2e-8154-92d235754e0b"
      },
      "source": [
        "import os\n",
        "from google.colab import drive\n",
        "drive.mount('/content/drive')\n",
        "\n",
        "path = \"/content/drive/My Drive/CSIS\"\n",
        "\n",
        "import pandas as pd\n",
        "\n",
        "df = pd.read_csv('nodes.csv')\n",
        "df=df['specialty;\"city\";\"patients\";\"free_time\";\"community\";\"friends\";\"adoption_date\";\"proximity\";\"med_sch_yr\";\"jours\";\"clubs\";\"meetings\";\"id\";\"discuss\"'].str.split(';', expand=True)\n",
        "\n",
        "# df[6] == df[\"\"adoption_date\"\"]\n",
        "df.head(246)\n"
      ],
      "execution_count": 89,
      "outputs": [
        {
          "output_type": "stream",
          "name": "stdout",
          "text": [
            "Drive already mounted at /content/drive; to attempt to forcibly remount, call drive.mount(\"/content/drive\", force_remount=True).\n"
          ]
        },
        {
          "output_type": "execute_result",
          "data": {
            "text/html": [
              "<div>\n",
              "<style scoped>\n",
              "    .dataframe tbody tr th:only-of-type {\n",
              "        vertical-align: middle;\n",
              "    }\n",
              "\n",
              "    .dataframe tbody tr th {\n",
              "        vertical-align: top;\n",
              "    }\n",
              "\n",
              "    .dataframe thead th {\n",
              "        text-align: right;\n",
              "    }\n",
              "</style>\n",
              "<table border=\"1\" class=\"dataframe\">\n",
              "  <thead>\n",
              "    <tr style=\"text-align: right;\">\n",
              "      <th></th>\n",
              "      <th>0</th>\n",
              "      <th>1</th>\n",
              "      <th>2</th>\n",
              "      <th>3</th>\n",
              "      <th>4</th>\n",
              "      <th>5</th>\n",
              "      <th>6</th>\n",
              "      <th>7</th>\n",
              "      <th>8</th>\n",
              "      <th>9</th>\n",
              "      <th>10</th>\n",
              "      <th>11</th>\n",
              "      <th>12</th>\n",
              "      <th>13</th>\n",
              "    </tr>\n",
              "  </thead>\n",
              "  <tbody>\n",
              "    <tr>\n",
              "      <th>0</th>\n",
              "      <td>9</td>\n",
              "      <td>\"Galesburg\"</td>\n",
              "      <td>\"9\"</td>\n",
              "      <td>\"9\"</td>\n",
              "      <td>\"9\"</td>\n",
              "      <td>\"9\"</td>\n",
              "      <td>\"99\"</td>\n",
              "      <td>\"9\"</td>\n",
              "      <td>\"9\"</td>\n",
              "      <td>\"9\"</td>\n",
              "      <td>\"9\"</td>\n",
              "      <td>\"9\"</td>\n",
              "      <td>\"246\"</td>\n",
              "      <td>\"9\"</td>\n",
              "    </tr>\n",
              "    <tr>\n",
              "      <th>1</th>\n",
              "      <td>9</td>\n",
              "      <td>\"Galesburg\"</td>\n",
              "      <td>\"9\"</td>\n",
              "      <td>\"9\"</td>\n",
              "      <td>\"9\"</td>\n",
              "      <td>\"9\"</td>\n",
              "      <td>\"99\"</td>\n",
              "      <td>\"9\"</td>\n",
              "      <td>\"9\"</td>\n",
              "      <td>\"9\"</td>\n",
              "      <td>\"9\"</td>\n",
              "      <td>\"9\"</td>\n",
              "      <td>\"245\"</td>\n",
              "      <td>\"9\"</td>\n",
              "    </tr>\n",
              "    <tr>\n",
              "      <th>2</th>\n",
              "      <td>9</td>\n",
              "      <td>\"Galesburg\"</td>\n",
              "      <td>\"9\"</td>\n",
              "      <td>\"9\"</td>\n",
              "      <td>\"9\"</td>\n",
              "      <td>\"9\"</td>\n",
              "      <td>\"99\"</td>\n",
              "      <td>\"9\"</td>\n",
              "      <td>\"9\"</td>\n",
              "      <td>\"9\"</td>\n",
              "      <td>\"9\"</td>\n",
              "      <td>\"9\"</td>\n",
              "      <td>\"244\"</td>\n",
              "      <td>\"9\"</td>\n",
              "    </tr>\n",
              "    <tr>\n",
              "      <th>3</th>\n",
              "      <td>4</td>\n",
              "      <td>\"Galesburg\"</td>\n",
              "      <td>\"2\"</td>\n",
              "      <td>\"1\"</td>\n",
              "      <td>\"4\"</td>\n",
              "      <td>\"3\"</td>\n",
              "      <td>\"98\"</td>\n",
              "      <td>\"2\"</td>\n",
              "      <td>\"4\"</td>\n",
              "      <td>\"4\"</td>\n",
              "      <td>\"0\"</td>\n",
              "      <td>\"2\"</td>\n",
              "      <td>\"243\"</td>\n",
              "      <td>\"1\"</td>\n",
              "    </tr>\n",
              "    <tr>\n",
              "      <th>4</th>\n",
              "      <td>4</td>\n",
              "      <td>\"Galesburg\"</td>\n",
              "      <td>\"9\"</td>\n",
              "      <td>\"1\"</td>\n",
              "      <td>\"5\"</td>\n",
              "      <td>\"3\"</td>\n",
              "      <td>\"98\"</td>\n",
              "      <td>\"2\"</td>\n",
              "      <td>\"4\"</td>\n",
              "      <td>\"5\"</td>\n",
              "      <td>\"0\"</td>\n",
              "      <td>\"1\"</td>\n",
              "      <td>\"242\"</td>\n",
              "      <td>\"2\"</td>\n",
              "    </tr>\n",
              "    <tr>\n",
              "      <th>...</th>\n",
              "      <td>...</td>\n",
              "      <td>...</td>\n",
              "      <td>...</td>\n",
              "      <td>...</td>\n",
              "      <td>...</td>\n",
              "      <td>...</td>\n",
              "      <td>...</td>\n",
              "      <td>...</td>\n",
              "      <td>...</td>\n",
              "      <td>...</td>\n",
              "      <td>...</td>\n",
              "      <td>...</td>\n",
              "      <td>...</td>\n",
              "      <td>...</td>\n",
              "    </tr>\n",
              "    <tr>\n",
              "      <th>241</th>\n",
              "      <td>1</td>\n",
              "      <td>\"Peoria\"</td>\n",
              "      <td>\"3\"</td>\n",
              "      <td>\"1\"</td>\n",
              "      <td>\"5\"</td>\n",
              "      <td>\"2\"</td>\n",
              "      <td>\"9\"</td>\n",
              "      <td>\"2\"</td>\n",
              "      <td>\"4\"</td>\n",
              "      <td>\"3\"</td>\n",
              "      <td>\"0\"</td>\n",
              "      <td>\"1\"</td>\n",
              "      <td>\"5\"</td>\n",
              "      <td>\"2\"</td>\n",
              "    </tr>\n",
              "    <tr>\n",
              "      <th>242</th>\n",
              "      <td>1</td>\n",
              "      <td>\"Peoria\"</td>\n",
              "      <td>\"3\"</td>\n",
              "      <td>\"1\"</td>\n",
              "      <td>\"4\"</td>\n",
              "      <td>\"1\"</td>\n",
              "      <td>\"9\"</td>\n",
              "      <td>\"3\"</td>\n",
              "      <td>\"5\"</td>\n",
              "      <td>\"5\"</td>\n",
              "      <td>\"0\"</td>\n",
              "      <td>\"1\"</td>\n",
              "      <td>\"4\"</td>\n",
              "      <td>\"1\"</td>\n",
              "    </tr>\n",
              "    <tr>\n",
              "      <th>243</th>\n",
              "      <td>2</td>\n",
              "      <td>\"Peoria\"</td>\n",
              "      <td>\"4\"</td>\n",
              "      <td>\"3\"</td>\n",
              "      <td>\"5\"</td>\n",
              "      <td>\"3\"</td>\n",
              "      <td>\"8\"</td>\n",
              "      <td>\"2\"</td>\n",
              "      <td>\"4\"</td>\n",
              "      <td>\"6\"</td>\n",
              "      <td>\"0\"</td>\n",
              "      <td>\"1\"</td>\n",
              "      <td>\"3\"</td>\n",
              "      <td>\"1\"</td>\n",
              "    </tr>\n",
              "    <tr>\n",
              "      <th>244</th>\n",
              "      <td>1</td>\n",
              "      <td>\"Peoria\"</td>\n",
              "      <td>\"4\"</td>\n",
              "      <td>\"3\"</td>\n",
              "      <td>\"1\"</td>\n",
              "      <td>\"4\"</td>\n",
              "      <td>\"12\"</td>\n",
              "      <td>\"3\"</td>\n",
              "      <td>\"6\"</td>\n",
              "      <td>\"4\"</td>\n",
              "      <td>\"0\"</td>\n",
              "      <td>\"0\"</td>\n",
              "      <td>\"2\"</td>\n",
              "      <td>\"2\"</td>\n",
              "    </tr>\n",
              "    <tr>\n",
              "      <th>245</th>\n",
              "      <td>3</td>\n",
              "      <td>\"Peoria\"</td>\n",
              "      <td>\"5\"</td>\n",
              "      <td>\"1\"</td>\n",
              "      <td>\"6\"</td>\n",
              "      <td>\"1\"</td>\n",
              "      <td>\"1\"</td>\n",
              "      <td>\"3\"</td>\n",
              "      <td>\"2\"</td>\n",
              "      <td>\"8\"</td>\n",
              "      <td>\"0\"</td>\n",
              "      <td>\"2\"</td>\n",
              "      <td>\"1\"</td>\n",
              "      <td>\"1\"</td>\n",
              "    </tr>\n",
              "  </tbody>\n",
              "</table>\n",
              "<p>246 rows × 14 columns</p>\n",
              "</div>"
            ],
            "text/plain": [
              "    0            1    2    3    4    5   ...   8    9    10   11     12   13\n",
              "0    9  \"Galesburg\"  \"9\"  \"9\"  \"9\"  \"9\"  ...  \"9\"  \"9\"  \"9\"  \"9\"  \"246\"  \"9\"\n",
              "1    9  \"Galesburg\"  \"9\"  \"9\"  \"9\"  \"9\"  ...  \"9\"  \"9\"  \"9\"  \"9\"  \"245\"  \"9\"\n",
              "2    9  \"Galesburg\"  \"9\"  \"9\"  \"9\"  \"9\"  ...  \"9\"  \"9\"  \"9\"  \"9\"  \"244\"  \"9\"\n",
              "3    4  \"Galesburg\"  \"2\"  \"1\"  \"4\"  \"3\"  ...  \"4\"  \"4\"  \"0\"  \"2\"  \"243\"  \"1\"\n",
              "4    4  \"Galesburg\"  \"9\"  \"1\"  \"5\"  \"3\"  ...  \"4\"  \"5\"  \"0\"  \"1\"  \"242\"  \"2\"\n",
              "..  ..          ...  ...  ...  ...  ...  ...  ...  ...  ...  ...    ...  ...\n",
              "241  1     \"Peoria\"  \"3\"  \"1\"  \"5\"  \"2\"  ...  \"4\"  \"3\"  \"0\"  \"1\"    \"5\"  \"2\"\n",
              "242  1     \"Peoria\"  \"3\"  \"1\"  \"4\"  \"1\"  ...  \"5\"  \"5\"  \"0\"  \"1\"    \"4\"  \"1\"\n",
              "243  2     \"Peoria\"  \"4\"  \"3\"  \"5\"  \"3\"  ...  \"4\"  \"6\"  \"0\"  \"1\"    \"3\"  \"1\"\n",
              "244  1     \"Peoria\"  \"4\"  \"3\"  \"1\"  \"4\"  ...  \"6\"  \"4\"  \"0\"  \"0\"    \"2\"  \"2\"\n",
              "245  3     \"Peoria\"  \"5\"  \"1\"  \"6\"  \"1\"  ...  \"2\"  \"8\"  \"0\"  \"2\"    \"1\"  \"1\"\n",
              "\n",
              "[246 rows x 14 columns]"
            ]
          },
          "metadata": {},
          "execution_count": 89
        }
      ]
    },
    {
      "cell_type": "code",
      "metadata": {
        "colab": {
          "base_uri": "https://localhost:8080/"
        },
        "id": "XFRjfc6lfb_D",
        "outputId": "72a7f2de-deb7-46a0-e11f-a237686e8e53"
      },
      "source": [
        "num_agents = df.shape[0]\n",
        "print(num_agents)"
      ],
      "execution_count": 65,
      "outputs": [
        {
          "output_type": "stream",
          "name": "stdout",
          "text": [
            "246\n"
          ]
        }
      ]
    },
    {
      "cell_type": "markdown",
      "metadata": {
        "id": "9Wl1Aa4IN45K"
      },
      "source": [
        "# **rearrange connections into clusters**"
      ]
    },
    {
      "cell_type": "code",
      "metadata": {
        "id": "eH2Z2C8iOFtR"
      },
      "source": [
        "import csv\n",
        "\n",
        "import numpy as np\n",
        "\n",
        "\n",
        "cluster_max_index = [116, 166, 210, 245]\n",
        "\n",
        "cluster_names = [\"Peoria\",\"Bloomington\" , \"Quincy\" ,\"Galesburg\"]\n",
        "\n",
        "\n",
        "\n",
        "def get_edges_array(cluster_max):\n",
        "\n",
        "    peoria_cluster_edges = []\n",
        "\n",
        "    bloomington_cluster_edges = []\n",
        "\n",
        "    quincy_cluster_edges = []\n",
        "\n",
        "    galesburg_cluster_edges = []\n",
        "\n",
        "    with open('medical_innovationver3.csv',newline='', encoding='utf-8') as f:\n",
        "\n",
        "        reader = csv.reader(f)\n",
        "\n",
        "        row_num = 0\n",
        "\n",
        "        for row in reader:\n",
        "            if row_num == 0:\n",
        "                row_num+=1\n",
        "            else:\n",
        "                edge_properties = []\n",
        "                args = row[0].split(\";\")\n",
        "\n",
        "                node1 = int(args[0])\n",
        "\n",
        "                \n",
        "\n",
        "                node2 = int(args[1][1:-1])\n",
        "\n",
        "                fr_ad_dis = [int(args[2][1:-1]), int(args[3][1:-1]), int(args[5][1:-1])]\n",
        "\n",
        "                id = int(args[4][1:-1])\n",
        "\n",
        "                edge_properties= [node1, node2, fr_ad_dis[0], fr_ad_dis[1], fr_ad_dis[2]]\n",
        "\n",
        "                if (node1 <= cluster_max[0] and node2 <= cluster_max[0]):\n",
        "\n",
        "                    \n",
        "\n",
        "                    peoria_cluster_edges.append(edge_properties)\n",
        "\n",
        "                elif(node1 <= cluster_max[1] and node2 <= cluster_max[1]): \n",
        "\n",
        "                    bloomington_cluster_edges.append(edge_properties)\n",
        "\n",
        "                elif(node1 <= cluster_max[2] and node2 <= cluster_max[2]): \n",
        "\n",
        "                    quincy_cluster_edges.append(edge_properties)\n",
        "\n",
        "                else: \n",
        "\n",
        "                    galesburg_cluster_edges.append(edge_properties)\n",
        "\n",
        "    return peoria_cluster_edges, bloomington_cluster_edges, quincy_cluster_edges, galesburg_cluster_edges    \n",
        "\n",
        "\n",
        "\n",
        "###\n",
        "\n",
        "# edges arrays arguments: \n",
        "\n",
        "#   - node1 (from)\n",
        "\n",
        "#   - node2 (to) \n",
        "\n",
        "#   - friendship relation \n",
        "\n",
        "#   - advice relation\n",
        "\n",
        "#   - discussion relation\n",
        "\n",
        "#  ###\n",
        "\n",
        "peoria_edges, bloomington_edges, quincy_edges, galesburg_edges = get_edges_array(cluster_max_index)"
      ],
      "execution_count": 19,
      "outputs": []
    },
    {
      "cell_type": "markdown",
      "metadata": {
        "id": "cW43Q1YYPXaV"
      },
      "source": [
        "# **initial state of agent opinion**"
      ]
    },
    {
      "cell_type": "code",
      "metadata": {
        "id": "Csmb7s0WUsyG"
      },
      "source": [
        "initial_state = np.zeros(num_agents)"
      ],
      "execution_count": 18,
      "outputs": []
    },
    {
      "cell_type": "markdown",
      "metadata": {
        "id": "5uFaXmCqPvPo"
      },
      "source": [
        "# **get time revolution (of opinion status of an agent) with original data**"
      ]
    },
    {
      "cell_type": "markdown",
      "metadata": {
        "id": "RGj_swh6YlRt"
      },
      "source": [
        "1.   each row represents an agent\n",
        "2.   each column represents the agent's opinion at this timepoint\n",
        "\n"
      ]
    },
    {
      "cell_type": "code",
      "metadata": {
        "colab": {
          "base_uri": "https://localhost:8080/",
          "height": 130
        },
        "id": "UsHSTFg6nGWQ",
        "outputId": "50c982c9-0913-4b01-e8e9-831c072ff72a"
      },
      "source": [
        "ad_time_all = df[6]\n",
        "for i in range(246):\n",
        "  ad_time_all[i] = (int)ad_time_all[i]\n",
        "print(ad_time_all)"
      ],
      "execution_count": 104,
      "outputs": [
        {
          "output_type": "error",
          "ename": "SyntaxError",
          "evalue": "ignored",
          "traceback": [
            "\u001b[0;36m  File \u001b[0;32m\"<ipython-input-104-54bd9785a022>\"\u001b[0;36m, line \u001b[0;32m3\u001b[0m\n\u001b[0;31m    ad_time_all[i] = (int)ad_time_all[i]\u001b[0m\n\u001b[0m                                    ^\u001b[0m\n\u001b[0;31mSyntaxError\u001b[0m\u001b[0;31m:\u001b[0m invalid syntax\n"
          ]
        }
      ]
    },
    {
      "cell_type": "code",
      "metadata": {
        "colab": {
          "base_uri": "https://localhost:8080/",
          "height": 409
        },
        "id": "A8zMMo4-RpQo",
        "outputId": "a0272e06-1dca-4327-94a0-e0ad5fc93550"
      },
      "source": [
        "\n",
        "\n",
        "time_range = ad_time_all.max()\n",
        "print(time_range)\n",
        "\n",
        "opinion_timeline_agents = []\n",
        "for i in range(num_agents):\n",
        "  opinion_timeline_agent_i = np.zeros(99)\n",
        "  adoption_timepoint = int(ad_time_all[i])\n",
        "  opinion_timeline_agent_i[opinion_timeline_agent_i >= adoption_timepoint] = 1\n",
        "\n",
        "  opinion_timeline_agents.append(opinion_timeline_agent_i)\n",
        "\n",
        "print(opinion_timeline_agents)"
      ],
      "execution_count": 94,
      "outputs": [
        {
          "output_type": "error",
          "ename": "ValueError",
          "evalue": "ignored",
          "traceback": [
            "\u001b[0;31m---------------------------------------------------------------------------\u001b[0m",
            "\u001b[0;31mValueError\u001b[0m                                Traceback (most recent call last)",
            "\u001b[0;32m<ipython-input-94-0b3f6a46e77b>\u001b[0m in \u001b[0;36m<module>\u001b[0;34m()\u001b[0m\n\u001b[1;32m      1\u001b[0m \u001b[0mad_time_all\u001b[0m \u001b[0;34m=\u001b[0m \u001b[0mdf\u001b[0m\u001b[0;34m[\u001b[0m\u001b[0;36m6\u001b[0m\u001b[0;34m]\u001b[0m\u001b[0;34m\u001b[0m\u001b[0;34m\u001b[0m\u001b[0m\n\u001b[0;32m----> 2\u001b[0;31m \u001b[0mdf\u001b[0m\u001b[0;34m[\u001b[0m\u001b[0;36m6\u001b[0m\u001b[0;34m]\u001b[0m\u001b[0;34m=\u001b[0m\u001b[0mdf\u001b[0m\u001b[0;34m[\u001b[0m\u001b[0;36m6\u001b[0m\u001b[0;34m]\u001b[0m\u001b[0;34m.\u001b[0m\u001b[0mastype\u001b[0m\u001b[0;34m(\u001b[0m\u001b[0mint\u001b[0m\u001b[0;34m)\u001b[0m\u001b[0;34m\u001b[0m\u001b[0;34m\u001b[0m\u001b[0m\n\u001b[0m\u001b[1;32m      3\u001b[0m \u001b[0;34m\u001b[0m\u001b[0m\n\u001b[1;32m      4\u001b[0m \u001b[0mprint\u001b[0m\u001b[0;34m(\u001b[0m\u001b[0mad_time_all\u001b[0m\u001b[0;34m)\u001b[0m\u001b[0;34m\u001b[0m\u001b[0;34m\u001b[0m\u001b[0m\n\u001b[1;32m      5\u001b[0m \u001b[0;34m\u001b[0m\u001b[0m\n",
            "\u001b[0;32m/usr/local/lib/python3.7/dist-packages/pandas/core/generic.py\u001b[0m in \u001b[0;36mastype\u001b[0;34m(self, dtype, copy, errors)\u001b[0m\n\u001b[1;32m   5546\u001b[0m         \u001b[0;32melse\u001b[0m\u001b[0;34m:\u001b[0m\u001b[0;34m\u001b[0m\u001b[0;34m\u001b[0m\u001b[0m\n\u001b[1;32m   5547\u001b[0m             \u001b[0;31m# else, only a single dtype is given\u001b[0m\u001b[0;34m\u001b[0m\u001b[0;34m\u001b[0m\u001b[0;34m\u001b[0m\u001b[0m\n\u001b[0;32m-> 5548\u001b[0;31m             \u001b[0mnew_data\u001b[0m \u001b[0;34m=\u001b[0m \u001b[0mself\u001b[0m\u001b[0;34m.\u001b[0m\u001b[0m_mgr\u001b[0m\u001b[0;34m.\u001b[0m\u001b[0mastype\u001b[0m\u001b[0;34m(\u001b[0m\u001b[0mdtype\u001b[0m\u001b[0;34m=\u001b[0m\u001b[0mdtype\u001b[0m\u001b[0;34m,\u001b[0m \u001b[0mcopy\u001b[0m\u001b[0;34m=\u001b[0m\u001b[0mcopy\u001b[0m\u001b[0;34m,\u001b[0m \u001b[0merrors\u001b[0m\u001b[0;34m=\u001b[0m\u001b[0merrors\u001b[0m\u001b[0;34m,\u001b[0m\u001b[0;34m)\u001b[0m\u001b[0;34m\u001b[0m\u001b[0;34m\u001b[0m\u001b[0m\n\u001b[0m\u001b[1;32m   5549\u001b[0m             \u001b[0;32mreturn\u001b[0m \u001b[0mself\u001b[0m\u001b[0;34m.\u001b[0m\u001b[0m_constructor\u001b[0m\u001b[0;34m(\u001b[0m\u001b[0mnew_data\u001b[0m\u001b[0;34m)\u001b[0m\u001b[0;34m.\u001b[0m\u001b[0m__finalize__\u001b[0m\u001b[0;34m(\u001b[0m\u001b[0mself\u001b[0m\u001b[0;34m,\u001b[0m \u001b[0mmethod\u001b[0m\u001b[0;34m=\u001b[0m\u001b[0;34m\"astype\"\u001b[0m\u001b[0;34m)\u001b[0m\u001b[0;34m\u001b[0m\u001b[0;34m\u001b[0m\u001b[0m\n\u001b[1;32m   5550\u001b[0m \u001b[0;34m\u001b[0m\u001b[0m\n",
            "\u001b[0;32m/usr/local/lib/python3.7/dist-packages/pandas/core/internals/managers.py\u001b[0m in \u001b[0;36mastype\u001b[0;34m(self, dtype, copy, errors)\u001b[0m\n\u001b[1;32m    602\u001b[0m         \u001b[0mself\u001b[0m\u001b[0;34m,\u001b[0m \u001b[0mdtype\u001b[0m\u001b[0;34m,\u001b[0m \u001b[0mcopy\u001b[0m\u001b[0;34m:\u001b[0m \u001b[0mbool\u001b[0m \u001b[0;34m=\u001b[0m \u001b[0;32mFalse\u001b[0m\u001b[0;34m,\u001b[0m \u001b[0merrors\u001b[0m\u001b[0;34m:\u001b[0m \u001b[0mstr\u001b[0m \u001b[0;34m=\u001b[0m \u001b[0;34m\"raise\"\u001b[0m\u001b[0;34m\u001b[0m\u001b[0;34m\u001b[0m\u001b[0m\n\u001b[1;32m    603\u001b[0m     ) -> \"BlockManager\":\n\u001b[0;32m--> 604\u001b[0;31m         \u001b[0;32mreturn\u001b[0m \u001b[0mself\u001b[0m\u001b[0;34m.\u001b[0m\u001b[0mapply\u001b[0m\u001b[0;34m(\u001b[0m\u001b[0;34m\"astype\"\u001b[0m\u001b[0;34m,\u001b[0m \u001b[0mdtype\u001b[0m\u001b[0;34m=\u001b[0m\u001b[0mdtype\u001b[0m\u001b[0;34m,\u001b[0m \u001b[0mcopy\u001b[0m\u001b[0;34m=\u001b[0m\u001b[0mcopy\u001b[0m\u001b[0;34m,\u001b[0m \u001b[0merrors\u001b[0m\u001b[0;34m=\u001b[0m\u001b[0merrors\u001b[0m\u001b[0;34m)\u001b[0m\u001b[0;34m\u001b[0m\u001b[0;34m\u001b[0m\u001b[0m\n\u001b[0m\u001b[1;32m    605\u001b[0m \u001b[0;34m\u001b[0m\u001b[0m\n\u001b[1;32m    606\u001b[0m     def convert(\n",
            "\u001b[0;32m/usr/local/lib/python3.7/dist-packages/pandas/core/internals/managers.py\u001b[0m in \u001b[0;36mapply\u001b[0;34m(self, f, align_keys, **kwargs)\u001b[0m\n\u001b[1;32m    407\u001b[0m                 \u001b[0mapplied\u001b[0m \u001b[0;34m=\u001b[0m \u001b[0mb\u001b[0m\u001b[0;34m.\u001b[0m\u001b[0mapply\u001b[0m\u001b[0;34m(\u001b[0m\u001b[0mf\u001b[0m\u001b[0;34m,\u001b[0m \u001b[0;34m**\u001b[0m\u001b[0mkwargs\u001b[0m\u001b[0;34m)\u001b[0m\u001b[0;34m\u001b[0m\u001b[0;34m\u001b[0m\u001b[0m\n\u001b[1;32m    408\u001b[0m             \u001b[0;32melse\u001b[0m\u001b[0;34m:\u001b[0m\u001b[0;34m\u001b[0m\u001b[0;34m\u001b[0m\u001b[0m\n\u001b[0;32m--> 409\u001b[0;31m                 \u001b[0mapplied\u001b[0m \u001b[0;34m=\u001b[0m \u001b[0mgetattr\u001b[0m\u001b[0;34m(\u001b[0m\u001b[0mb\u001b[0m\u001b[0;34m,\u001b[0m \u001b[0mf\u001b[0m\u001b[0;34m)\u001b[0m\u001b[0;34m(\u001b[0m\u001b[0;34m**\u001b[0m\u001b[0mkwargs\u001b[0m\u001b[0;34m)\u001b[0m\u001b[0;34m\u001b[0m\u001b[0;34m\u001b[0m\u001b[0m\n\u001b[0m\u001b[1;32m    410\u001b[0m             \u001b[0mresult_blocks\u001b[0m \u001b[0;34m=\u001b[0m \u001b[0m_extend_blocks\u001b[0m\u001b[0;34m(\u001b[0m\u001b[0mapplied\u001b[0m\u001b[0;34m,\u001b[0m \u001b[0mresult_blocks\u001b[0m\u001b[0;34m)\u001b[0m\u001b[0;34m\u001b[0m\u001b[0;34m\u001b[0m\u001b[0m\n\u001b[1;32m    411\u001b[0m \u001b[0;34m\u001b[0m\u001b[0m\n",
            "\u001b[0;32m/usr/local/lib/python3.7/dist-packages/pandas/core/internals/blocks.py\u001b[0m in \u001b[0;36mastype\u001b[0;34m(self, dtype, copy, errors)\u001b[0m\n\u001b[1;32m    593\u001b[0m             \u001b[0mvals1d\u001b[0m \u001b[0;34m=\u001b[0m \u001b[0mvalues\u001b[0m\u001b[0;34m.\u001b[0m\u001b[0mravel\u001b[0m\u001b[0;34m(\u001b[0m\u001b[0;34m)\u001b[0m\u001b[0;34m\u001b[0m\u001b[0;34m\u001b[0m\u001b[0m\n\u001b[1;32m    594\u001b[0m             \u001b[0;32mtry\u001b[0m\u001b[0;34m:\u001b[0m\u001b[0;34m\u001b[0m\u001b[0;34m\u001b[0m\u001b[0m\n\u001b[0;32m--> 595\u001b[0;31m                 \u001b[0mvalues\u001b[0m \u001b[0;34m=\u001b[0m \u001b[0mastype_nansafe\u001b[0m\u001b[0;34m(\u001b[0m\u001b[0mvals1d\u001b[0m\u001b[0;34m,\u001b[0m \u001b[0mdtype\u001b[0m\u001b[0;34m,\u001b[0m \u001b[0mcopy\u001b[0m\u001b[0;34m=\u001b[0m\u001b[0;32mTrue\u001b[0m\u001b[0;34m)\u001b[0m\u001b[0;34m\u001b[0m\u001b[0;34m\u001b[0m\u001b[0m\n\u001b[0m\u001b[1;32m    596\u001b[0m             \u001b[0;32mexcept\u001b[0m \u001b[0;34m(\u001b[0m\u001b[0mValueError\u001b[0m\u001b[0;34m,\u001b[0m \u001b[0mTypeError\u001b[0m\u001b[0;34m)\u001b[0m\u001b[0;34m:\u001b[0m\u001b[0;34m\u001b[0m\u001b[0;34m\u001b[0m\u001b[0m\n\u001b[1;32m    597\u001b[0m                 \u001b[0;31m# e.g. astype_nansafe can fail on object-dtype of strings\u001b[0m\u001b[0;34m\u001b[0m\u001b[0;34m\u001b[0m\u001b[0;34m\u001b[0m\u001b[0m\n",
            "\u001b[0;32m/usr/local/lib/python3.7/dist-packages/pandas/core/dtypes/cast.py\u001b[0m in \u001b[0;36mastype_nansafe\u001b[0;34m(arr, dtype, copy, skipna)\u001b[0m\n\u001b[1;32m    972\u001b[0m         \u001b[0;31m# work around NumPy brokenness, #1987\u001b[0m\u001b[0;34m\u001b[0m\u001b[0;34m\u001b[0m\u001b[0;34m\u001b[0m\u001b[0m\n\u001b[1;32m    973\u001b[0m         \u001b[0;32mif\u001b[0m \u001b[0mnp\u001b[0m\u001b[0;34m.\u001b[0m\u001b[0missubdtype\u001b[0m\u001b[0;34m(\u001b[0m\u001b[0mdtype\u001b[0m\u001b[0;34m.\u001b[0m\u001b[0mtype\u001b[0m\u001b[0;34m,\u001b[0m \u001b[0mnp\u001b[0m\u001b[0;34m.\u001b[0m\u001b[0minteger\u001b[0m\u001b[0;34m)\u001b[0m\u001b[0;34m:\u001b[0m\u001b[0;34m\u001b[0m\u001b[0;34m\u001b[0m\u001b[0m\n\u001b[0;32m--> 974\u001b[0;31m             \u001b[0;32mreturn\u001b[0m \u001b[0mlib\u001b[0m\u001b[0;34m.\u001b[0m\u001b[0mastype_intsafe\u001b[0m\u001b[0;34m(\u001b[0m\u001b[0marr\u001b[0m\u001b[0;34m.\u001b[0m\u001b[0mravel\u001b[0m\u001b[0;34m(\u001b[0m\u001b[0;34m)\u001b[0m\u001b[0;34m,\u001b[0m \u001b[0mdtype\u001b[0m\u001b[0;34m)\u001b[0m\u001b[0;34m.\u001b[0m\u001b[0mreshape\u001b[0m\u001b[0;34m(\u001b[0m\u001b[0marr\u001b[0m\u001b[0;34m.\u001b[0m\u001b[0mshape\u001b[0m\u001b[0;34m)\u001b[0m\u001b[0;34m\u001b[0m\u001b[0;34m\u001b[0m\u001b[0m\n\u001b[0m\u001b[1;32m    975\u001b[0m \u001b[0;34m\u001b[0m\u001b[0m\n\u001b[1;32m    976\u001b[0m         \u001b[0;31m# if we have a datetime/timedelta array of objects\u001b[0m\u001b[0;34m\u001b[0m\u001b[0;34m\u001b[0m\u001b[0;34m\u001b[0m\u001b[0m\n",
            "\u001b[0;32mpandas/_libs/lib.pyx\u001b[0m in \u001b[0;36mpandas._libs.lib.astype_intsafe\u001b[0;34m()\u001b[0m\n",
            "\u001b[0;31mValueError\u001b[0m: invalid literal for int() with base 10: '\"99\"'"
          ]
        }
      ]
    },
    {
      "cell_type": "markdown",
      "metadata": {
        "id": "IpfvDVCwQA3w"
      },
      "source": [
        "# **set and train the model from one cluster**"
      ]
    },
    {
      "cell_type": "markdown",
      "metadata": {
        "id": "2wWasDzaP8U1"
      },
      "source": [
        "# **get time evolution prediction for other clusters**"
      ]
    },
    {
      "cell_type": "markdown",
      "metadata": {
        "id": "hrU-FntuRFU4"
      },
      "source": [
        "# **evaluate and adjust the model**"
      ]
    },
    {
      "cell_type": "markdown",
      "metadata": {
        "id": "fLxoj_r7Orl6"
      },
      "source": [
        "# **visualization**"
      ]
    },
    {
      "cell_type": "code",
      "metadata": {
        "colab": {
          "base_uri": "https://localhost:8080/"
        },
        "id": "bAidmEusRvIs",
        "outputId": "df09baa6-b6a4-417f-cfe6-84a002310b26"
      },
      "source": [
        "!echo \"deb http://downloads.skewed.de/apt bionic main\" >> /etc/apt/sources.list\n",
        "!apt-key adv --keyserver keys.openpgp.org --recv-key 612DEFB798507F25\n",
        "!apt-get update\n",
        "!apt-get install python3-graph-tool python3-cairo python3-matplotlib"
      ],
      "execution_count": 5,
      "outputs": [
        {
          "output_type": "stream",
          "name": "stdout",
          "text": [
            "Executing: /tmp/apt-key-gpghome.AXiMwAbcry/gpg.1.sh --keyserver keys.openpgp.org --recv-key 612DEFB798507F25\n",
            "gpg: key 612DEFB798507F25: \"Tiago de Paula Peixoto <tiago@skewed.de>\" not changed\n",
            "gpg: Total number processed: 1\n",
            "gpg:              unchanged: 1\n",
            "Hit:1 http://ppa.launchpad.net/c2d4u.team/c2d4u4.0+/ubuntu bionic InRelease\n",
            "Hit:2 http://downloads.skewed.de/apt bionic InRelease\n",
            "Hit:3 http://archive.ubuntu.com/ubuntu bionic InRelease\n",
            "Hit:4 http://ppa.launchpad.net/cran/libgit2/ubuntu bionic InRelease\n",
            "Hit:5 https://cloud.r-project.org/bin/linux/ubuntu bionic-cran40/ InRelease\n",
            "Get:6 http://archive.ubuntu.com/ubuntu bionic-updates InRelease [88.7 kB]\n",
            "Hit:7 http://ppa.launchpad.net/deadsnakes/ppa/ubuntu bionic InRelease\n",
            "Get:8 http://archive.ubuntu.com/ubuntu bionic-backports InRelease [74.6 kB]\n",
            "Hit:9 http://ppa.launchpad.net/graphics-drivers/ppa/ubuntu bionic InRelease\n",
            "Ign:10 https://developer.download.nvidia.com/compute/cuda/repos/ubuntu1804/x86_64  InRelease\n",
            "Ign:11 https://developer.download.nvidia.com/compute/machine-learning/repos/ubuntu1804/x86_64  InRelease\n",
            "Hit:12 https://developer.download.nvidia.com/compute/cuda/repos/ubuntu1804/x86_64  Release\n",
            "Hit:13 https://developer.download.nvidia.com/compute/machine-learning/repos/ubuntu1804/x86_64  Release\n",
            "Hit:14 http://security.ubuntu.com/ubuntu bionic-security InRelease\n",
            "Fetched 163 kB in 2s (73.1 kB/s)\n",
            "Reading package lists... Done\n",
            "W: Target Packages (main/binary-amd64/Packages) is configured multiple times in /etc/apt/sources.list:51 and /etc/apt/sources.list:52\n",
            "W: Target Packages (main/binary-all/Packages) is configured multiple times in /etc/apt/sources.list:51 and /etc/apt/sources.list:52\n",
            "W: Target Packages (main/binary-amd64/Packages) is configured multiple times in /etc/apt/sources.list:51 and /etc/apt/sources.list:52\n",
            "W: Target Packages (main/binary-all/Packages) is configured multiple times in /etc/apt/sources.list:51 and /etc/apt/sources.list:52\n",
            "Reading package lists... Done\n",
            "Building dependency tree       \n",
            "Reading state information... Done\n",
            "python3-cairo is already the newest version (1.16.2-1).\n",
            "python3-matplotlib is already the newest version (2.1.1-2ubuntu3).\n",
            "python3-graph-tool is already the newest version (2.43).\n",
            "0 upgraded, 0 newly installed, 0 to remove and 39 not upgraded.\n",
            "W: Target Packages (main/binary-amd64/Packages) is configured multiple times in /etc/apt/sources.list:51 and /etc/apt/sources.list:52\n",
            "W: Target Packages (main/binary-all/Packages) is configured multiple times in /etc/apt/sources.list:51 and /etc/apt/sources.list:52\n"
          ]
        }
      ]
    },
    {
      "cell_type": "code",
      "metadata": {
        "colab": {
          "base_uri": "https://localhost:8080/"
        },
        "id": "WPt87_srR5Nl",
        "outputId": "984d677f-b46c-48d4-d429-302b990f02fd"
      },
      "source": [
        "from graph_tool.all import *"
      ],
      "execution_count": 6,
      "outputs": [
        {
          "output_type": "stream",
          "name": "stderr",
          "text": [
            "/usr/lib/python3/dist-packages/graph_tool/draw/cairo_draw.py:32: RuntimeWarning: Error importing cairo. Graph drawing will not work.\n",
            "  warnings.warn(msg, RuntimeWarning)\n",
            "/usr/lib/python3/dist-packages/graph_tool/draw/cairo_draw.py:32: RuntimeWarning: Error importing cairo. Graph drawing will not work.\n",
            "  warnings.warn(msg, RuntimeWarning)\n",
            "/usr/lib/python3/dist-packages/graph_tool/draw/cairo_draw.py:32: RuntimeWarning: Error importing cairo. Graph drawing will not work.\n",
            "  warnings.warn(msg, RuntimeWarning)\n",
            "/usr/lib/python3/dist-packages/graph_tool/all.py:39: RuntimeWarning: Error importing draw module, proceeding nevertheless: No module named 'cairo._cairo'\n",
            "  warnings.warn(msg, RuntimeWarning)\n"
          ]
        }
      ]
    },
    {
      "cell_type": "code",
      "metadata": {
        "id": "5CrrM10aR8Cl"
      },
      "source": [
        "%matplotlib inline\n",
        "import graph_tool.all as gt\n",
        "import os \n",
        "import matplotlib.pyplot as plt\n",
        "\n",
        "'''\n",
        "converts the following to graphs and output in {target_directory}:\n",
        "    \n",
        "    - agent ids\n",
        "    - agent intrinsics\n",
        "    - driving forces\n",
        "    - opinion\n",
        "    \n",
        "    \n",
        "Input:\n",
        "\n",
        "    agents:           numpy array of agent intrinsics\n",
        "    clusters:         {\"cluster_i\": a list of agent ids}\n",
        "    driving_forces:   numpy array of the driving forces\n",
        "    opinions:         binary numpy array of the opinions\n",
        "    dynamic:          use matplotlib for dynamic visualization instead of saving the graph directly\n",
        "    target_directory: output directory\n",
        "    \n",
        "    \n",
        "The graphs this function produces:\n",
        "\n",
        "    1.Opinion\n",
        "    2.Driving force\n",
        "    3.Agent intrinsics (can be many separate features)\n",
        "    \n",
        "    \n",
        "TODO: how to use matplotlib or export sequence of plots to video/gif for convinient visualization?\n",
        " \n",
        "    \n",
        "'''\n",
        "\n",
        "\n",
        "def to_graph(clusters, driving_forces, agents, opinions, dynamic=False, target_directory=\"\"):\n",
        "    \n",
        "    if dynamic:\n",
        "        plt.switch_backend(\"cairo\")\n",
        "    \n",
        "    # directed graph, each cluster is a clique\n",
        "    g = gt.Graph() \n",
        "    num_agents = len(agents)\n",
        "    num_clusters = clusters.shape[0]\n",
        "    g.add_vertex(num_agents)\n",
        "    cluster_assignment = np.zeros(num_agents)\n",
        "    for cluster in range(num_clusters):\n",
        "        agents_in_cluster = clusters[cluster, :]\n",
        "        cluster_assignment[agents_in_cluster] = cluster\n",
        "        for a1 in agents_in_cluster:\n",
        "            for a2 in agents_in_cluster:\n",
        "                if a1 != a2:\n",
        "                    g.add_edge(g.vertex(a1), g.vertex(a2)) \n",
        "    \n",
        "    add_edges_between_clusters(g, cluster_assignment)\n",
        "    \n",
        "    # add edges between clusters\n",
        "    #show_heatmap(g)\n",
        "            \n",
        "    #vprop_attributes = g.new_vertex_property(\"vector<double>\")\n",
        "    vprop_opinion = g.new_vertex_property(\"int\")\n",
        "    for v in g.iter_vertices():\n",
        "        vprop_opinion[v] = opinions[v]\n",
        "    \n",
        "    # draw opinions\n",
        "    #layout_list = ['fruchterman_reingold_layout', 'sfdp_layout']\n",
        "    state = gt.minimize_nested_blockmodel_dl(g)\n",
        "    \n",
        "    #pos = gt.radial_tree_layout(g) # try different layouts\n",
        "    pos = gt.sfdp_layout(g)\n",
        "    deg = g.degree_property_map(\"in\")\n",
        "    draw_order = np.concatenate(clusters)# by cluster\n",
        "    fill_color = vprop_opinion\n",
        "    #print(fill_color)\n",
        "    \n",
        "    #gt.draw_hierarchy(state, output=\"experiment.pdf\", vprops = vprop_opinion)\n",
        "    \n",
        "    \n",
        "    gt.graph_draw(g, pos=pos, \n",
        "                  vertex_fill_color=fill_color,#vorder=draw_order,\n",
        "                  vertex_size = 25,\n",
        "                  vertex_pen_width = 2,\n",
        "                  edge_pen_width=2,\n",
        "                  #edge_color='',\n",
        "                  inline=True,\n",
        "                  output=os.path.join(target_directory, \"experiment.pdf\"))\n",
        "    \n",
        "#     # draw driving forces"
      ],
      "execution_count": 7,
      "outputs": []
    },
    {
      "cell_type": "code",
      "metadata": {
        "colab": {
          "base_uri": "https://localhost:8080/",
          "height": 198
        },
        "id": "XmeTR6tOSHj9",
        "outputId": "b8a0d2a0-07f1-45b8-fd45-e9e01468a586"
      },
      "source": [
        "to_graph(clusters, driving_forces, agents, opinions)"
      ],
      "execution_count": 8,
      "outputs": [
        {
          "output_type": "error",
          "ename": "NameError",
          "evalue": "ignored",
          "traceback": [
            "\u001b[0;31m---------------------------------------------------------------------------\u001b[0m",
            "\u001b[0;31mNameError\u001b[0m                                 Traceback (most recent call last)",
            "\u001b[0;32m<ipython-input-8-195ebb6214cd>\u001b[0m in \u001b[0;36m<module>\u001b[0;34m()\u001b[0m\n\u001b[0;32m----> 1\u001b[0;31m \u001b[0mto_graph\u001b[0m\u001b[0;34m(\u001b[0m\u001b[0mclusters\u001b[0m\u001b[0;34m,\u001b[0m \u001b[0mdriving_forces\u001b[0m\u001b[0;34m,\u001b[0m \u001b[0magents\u001b[0m\u001b[0;34m,\u001b[0m \u001b[0mopinions\u001b[0m\u001b[0;34m)\u001b[0m\u001b[0;34m\u001b[0m\u001b[0;34m\u001b[0m\u001b[0m\n\u001b[0m",
            "\u001b[0;31mNameError\u001b[0m: name 'clusters' is not defined"
          ]
        }
      ]
    }
  ]
}