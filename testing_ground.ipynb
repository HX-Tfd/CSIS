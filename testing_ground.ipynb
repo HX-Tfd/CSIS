{
 "cells": [
  {
   "cell_type": "code",
   "execution_count": 3,
   "metadata": {},
   "outputs": [],
   "source": [
    "import pandas as pd\n",
    "\n",
    "df = pd.read_csv('nodes')\n",
    "df=df['specialty;\"city\";\"patients\";\"free_time\";\"community\";\"friends\";\"adoption_date\";\"proximity\";\"med_sch_yr\";\"jours\";\"clubs\";\"meetings\";\"id\";\"discuss\"'].str.split(';', expand=True)\n"
   ]
  },
  {
   "cell_type": "code",
   "execution_count": 4,
   "metadata": {
    "id": "zcKLHPDtrGMo"
   },
   "outputs": [],
   "source": [
    "'''\n",
    "Global configurations\n",
    "'''\n",
    "k_alpha = 1     #frienship relation\n",
    "k_beta = .5     #advice relation\n",
    "k_delta = .6    #discussion relation\n",
    "E_profit = 10\n",
    "K_self_coupling = -2\n",
    "\n",
    "num_clusters = 5\n",
    "num_agents = 20"
   ]
  },
  {
   "cell_type": "markdown",
   "metadata": {
    "id": "9Wl1Aa4IN45K"
   },
   "source": [
    "# **rearrange connections into clusters**"
   ]
  },
  {
   "cell_type": "code",
   "execution_count": 5,
   "metadata": {},
   "outputs": [
    {
     "name": "stdout",
     "output_type": "stream",
     "text": [
      "246\n"
     ]
    }
   ],
   "source": [
    "num_agents = df.shape[0]\n",
    "print(num_agents)"
   ]
  },
  {
   "cell_type": "code",
   "execution_count": 6,
   "metadata": {
    "id": "eH2Z2C8iOFtR"
   },
   "outputs": [],
   "source": [
    "import csv\n",
    "\n",
    "import numpy as np\n",
    "\n",
    "\n",
    "cluster_max_index = [116, 166, 210, 246]\n",
    "cluster_range = [[0,116],[116,166],[166,210],[210,246]]\n",
    "\n",
    "cluster_names = [\"Peoria\",\"Bloomington\" , \"Quincy\" ,\"Galesburg\"]\n",
    "\n",
    "\n",
    "\n",
    "def get_edges_array(cluster_max):\n",
    "\n",
    "    peoria_cluster_edges = []\n",
    "\n",
    "    bloomington_cluster_edges = []\n",
    "\n",
    "    quincy_cluster_edges = []\n",
    "\n",
    "    galesburg_cluster_edges = []\n",
    "\n",
    "    with open('medical_innovationver3.csv',newline='', encoding='utf-8') as f:\n",
    "\n",
    "        reader = csv.reader(f)\n",
    "\n",
    "        row_num = 0\n",
    "\n",
    "        for row in reader:\n",
    "            if row_num == 0:\n",
    "                row_num+=1\n",
    "            else:\n",
    "                edge_properties = []\n",
    "                args = row[0].split(\";\")\n",
    "\n",
    "                node1 = int(args[0])-1\n",
    "\n",
    "                \n",
    "\n",
    "                node2 = int(args[1][1:-1])-1\n",
    "\n",
    "                fr_ad_dis = [int(args[2][1:-1]), int(args[3][1:-1]), int(args[5][1:-1])]\n",
    "\n",
    "                id = int(args[4][1:-1])\n",
    "\n",
    "                edge_properties= [node1, node2, fr_ad_dis[0], fr_ad_dis[1], fr_ad_dis[2]]\n",
    "\n",
    "                if (node1 <= cluster_max[0] and node2 <= cluster_max[0]):\n",
    "\n",
    "                    \n",
    "\n",
    "                    peoria_cluster_edges.append(edge_properties)\n",
    "\n",
    "                elif(node1 <= cluster_max[1] and node2 <= cluster_max[1]): \n",
    "\n",
    "                    bloomington_cluster_edges.append(edge_properties)\n",
    "\n",
    "                elif(node1 <= cluster_max[2] and node2 <= cluster_max[2]): \n",
    "\n",
    "                    quincy_cluster_edges.append(edge_properties)\n",
    "\n",
    "                else: \n",
    "\n",
    "                    galesburg_cluster_edges.append(edge_properties)\n",
    "\n",
    "    return peoria_cluster_edges, bloomington_cluster_edges, quincy_cluster_edges, galesburg_cluster_edges    \n",
    "\n",
    "\n",
    "\n",
    "###\n",
    "\n",
    "# edges arrays arguments: \n",
    "\n",
    "#   - node1 (from)\n",
    "\n",
    "#   - node2 (to) \n",
    "\n",
    "#   - friendship relation \n",
    "\n",
    "#   - advice relation\n",
    "\n",
    "#   - discussion relation\n",
    "\n",
    "#  ###\n",
    "\n",
    "peoria_edges, bloomington_edges, quincy_edges, galesburg_edges = get_edges_array(cluster_max_index)"
   ]
  },
  {
   "cell_type": "markdown",
   "metadata": {
    "id": "5uFaXmCqPvPo"
   },
   "source": [
    "# **get time revolution (of opinion status of an agent) with original data**"
   ]
  },
  {
   "cell_type": "markdown",
   "metadata": {
    "id": "RGj_swh6YlRt"
   },
   "source": [
    "1.   each row represents an agent\n",
    "2.   each column represents the agent's opinion at this timepoint\n",
    "\n"
   ]
  },
  {
   "cell_type": "code",
   "execution_count": 7,
   "metadata": {
    "colab": {
     "base_uri": "https://localhost:8080/",
     "height": 130
    },
    "id": "UsHSTFg6nGWQ",
    "outputId": "50c982c9-0913-4b01-e8e9-831c072ff72a"
   },
   "outputs": [
    {
     "name": "stdout",
     "output_type": "stream",
     "text": [
      "0      99\n",
      "1      99\n",
      "2      99\n",
      "3      98\n",
      "4      98\n",
      "       ..\n",
      "241     9\n",
      "242     9\n",
      "243     8\n",
      "244    12\n",
      "245     1\n",
      "Name: 6, Length: 246, dtype: object\n"
     ]
    }
   ],
   "source": [
    "ad_time_all = df[6]\n",
    "for i in range(246):\n",
    "  ad_time_all[i] = int(ad_time_all[i][1:-1])\n",
    "print(ad_time_all)"
   ]
  },
  {
   "cell_type": "code",
   "execution_count": 8,
   "metadata": {
    "colab": {
     "base_uri": "https://localhost:8080/",
     "height": 409
    },
    "id": "A8zMMo4-RpQo",
    "outputId": "a0272e06-1dca-4327-94a0-e0ad5fc93550",
    "scrolled": false
   },
   "outputs": [
    {
     "name": "stdout",
     "output_type": "stream",
     "text": [
      "99\n",
      "[[0 0 0 ... 0 0 1]\n",
      " [0 0 0 ... 0 0 1]\n",
      " [0 0 0 ... 0 0 1]\n",
      " ...\n",
      " [0 0 0 ... 1 1 1]\n",
      " [0 0 0 ... 1 1 1]\n",
      " [1 1 1 ... 1 1 1]]\n"
     ]
    }
   ],
   "source": [
    "\n",
    "\n",
    "time_range = ad_time_all.max()\n",
    "print(time_range)\n",
    "\n",
    "opinion_timeline_agents = []\n",
    "for i in range(num_agents):\n",
    "  opinion_timeline_agent_i = np.zeros(99)\n",
    "  adoption_timepoint = int(ad_time_all[i])\n",
    "  opinion_timeline_agent_i=[1 if j >= adoption_timepoint-1 else 0 for j in range(time_range) ] \n",
    "  opinion_timeline_agents.append(opinion_timeline_agent_i)\n",
    "opinion_timeline_agents=np.asarray(opinion_timeline_agents)\n",
    "\n",
    "print(opinion_timeline_agents)"
   ]
  },
  {
   "cell_type": "markdown",
   "metadata": {},
   "source": [
    "# **initial opinion state**"
   ]
  },
  {
   "cell_type": "code",
   "execution_count": 9,
   "metadata": {},
   "outputs": [
    {
     "name": "stdout",
     "output_type": "stream",
     "text": [
      "[0, 0, 0, 0, 0, 0, 0, 0, 0, 0, 0, 0, 0, 0, 0, 0, 0, 0, 0, 0, 0, 0, 0, 0, 0, 0, 0, 0, 0, 0, 0, 0, 0, 0, 0, 0, 0, 0, 0, 0, 0, 0, 0, 0, 0, 0, 0, 0, 0, 0, 0, 0, 0, 0, 0, 0, 0, 0, 0, 0, 0, 0, 0, 0, 0, 0, 0, 0, 0, 0, 0, 0, 0, 0, 0, 0, 0, 0, 0, 0, 0, 0, 0, 0, 0, 0, 0, 0, 0, 0, 0, 0, 0, 0, 0, 1, 0, 0, 0, 0, 0, 0, 0, 0, 0, 0, 0, 0, 0, 0, 0, 0, 0, 0, 0, 1, 1, 0, 0, 1, 0, 0, 0, 1, 0, 0, 0, 1, 0, 0, 0, 0, 0, 0, 0, 0, 0, 0, 0, 0, 0, 0, 0, 0, 0, 0, 0, 0, 0, 0, 0, 0, 0, 1, 0, 0, 0, 0, 0, 0, 0, 0, 0, 0, 0, 0, 0, 0, 1, 0, 0, 1, 0, 0, 0, 0, 0, 0, 0, 0, 0, 0, 0, 0, 0, 0, 0, 0, 0, 0, 0, 0, 0, 0, 0, 0, 0, 0, 0, 0, 0, 0, 0, 0, 0, 0, 0, 0, 0, 0, 0, 0, 0, 0, 0, 0, 0, 0, 0, 1, 0, 0, 0, 0, 0, 0, 0, 0, 0, 0, 0, 0, 0, 0, 0, 0, 0, 0, 0, 0, 0, 0, 0, 0, 0, 1]\n"
     ]
    }
   ],
   "source": [
    "initial_opinions = []\n",
    "\n",
    "for i in range(num_agents): \n",
    "    initial_opinions.append(opinion_timeline_agents[i][0])\n",
    "\n",
    "print(initial_opinions)"
   ]
  },
  {
   "cell_type": "markdown",
   "metadata": {},
   "source": [
    "# **initial opinions per cluster**"
   ]
  },
  {
   "cell_type": "code",
   "execution_count": 16,
   "metadata": {},
   "outputs": [
    {
     "name": "stdout",
     "output_type": "stream",
     "text": [
      "[0, 0, 0, 0, 0, 0, 0, 0, 0, 0, 0, 0, 0, 0, 0, 0, 0, 0, 0, 0, 0, 0, 0, 0, 0, 0, 0, 0, 0, 0, 0, 0, 0, 0, 0, 0, 0, 0, 0, 0, 0, 0, 0, 0, 0, 0, 0, 0, 0, 0, 0, 0, 0, 0, 0, 0, 0, 0, 0, 0, 0, 0, 0, 0, 0, 0, 0, 0, 0, 0, 0, 0, 0, 0, 0, 0, 0, 0, 0, 0, 0, 0, 0, 0, 0, 0, 0, 0, 0, 0, 0, 0, 0, 0, 0, 1, 0, 0, 0, 0, 0, 0, 0, 0, 0, 0, 0, 0, 0, 0, 0, 0, 0, 0, 0, 1]\n"
     ]
    }
   ],
   "source": [
    "max_node_array = [116, 166, 210, 246]\n",
    "cluster_range = [[0,116],[116,166],[166,210],[210,246]]\n",
    "\n",
    "cluster_names = [\"Peoria\",\"Bloomington\" , \"Quincy\" ,\"Galesburg\"]\n",
    "\n",
    "\n",
    "peoria_initials = initial_opinions[0:max_node_array[0]]\n",
    "bloomington_initials = initial_opinions[cluster_range[1][0]:cluster_range[1][1]]\n",
    "quincy_initials = initial_opinions[cluster_range[2][0]:cluster_range[2][1]]\n",
    "galesburg_initials = initial_opinions[cluster_range[3][0]:cluster_range[3][1]]\n",
    "opinion_initials_per_cluster = [peoria_initials, bloomington_initials, quincy_initials, galesburg_initials]\n",
    "\n",
    "def get_initial_opinions(cluster_number): \n",
    "    return opinion_initials_per_cluster[cluster_number]\n",
    "\n"
   ]
  },
  {
   "cell_type": "markdown",
   "metadata": {},
   "source": [
    "# driving force custom"
   ]
  },
  {
   "cell_type": "code",
   "execution_count": 34,
   "metadata": {},
   "outputs": [
    {
     "name": "stdout",
     "output_type": "stream",
     "text": [
      "agent 0 obtained a driving force of 10.0\n",
      "agent 1 obtained a driving force of 10.0\n",
      "agent 2 obtained a driving force of 10.0\n",
      "agent 3 obtained a driving force of 10.0\n",
      "agent 4 obtained a driving force of 10.0\n",
      "agent 5 obtained a driving force of 10.0\n",
      "agent 6 obtained a driving force of 10.0\n",
      "agent 7 obtained a driving force of 10.0\n",
      "agent 8 obtained a driving force of 10.0\n",
      "agent 9 obtained a driving force of 10.0\n",
      "agent 10 obtained a driving force of 10.0\n",
      "agent 11 obtained a driving force of 10.0\n",
      "agent 12 obtained a driving force of 10.0\n",
      "agent 13 obtained a driving force of 10.0\n",
      "agent 14 obtained a driving force of 10.0\n",
      "agent 15 obtained a driving force of 10.0\n",
      "agent 16 obtained a driving force of 10.0\n",
      "agent 17 obtained a driving force of 10.0\n",
      "agent 18 obtained a driving force of 10.5\n",
      "agent 19 obtained a driving force of 10.0\n",
      "agent 20 obtained a driving force of 10.0\n",
      "agent 21 obtained a driving force of 10.0\n",
      "agent 22 obtained a driving force of 10.0\n",
      "agent 23 obtained a driving force of 10.0\n",
      "agent 24 obtained a driving force of 10.0\n",
      "agent 25 obtained a driving force of 10.0\n",
      "agent 26 obtained a driving force of 10.0\n",
      "agent 27 obtained a driving force of 10.0\n",
      "agent 28 obtained a driving force of 10.0\n",
      "agent 29 obtained a driving force of 10.0\n",
      "agent 30 obtained a driving force of 10.0\n",
      "agent 31 obtained a driving force of 10.0\n",
      "agent 32 obtained a driving force of 10.0\n",
      "agent 33 obtained a driving force of 10.0\n",
      "agent 34 obtained a driving force of 10.0\n",
      "agent 35 obtained a driving force of 11.1\n",
      "agent 36 obtained a driving force of 10.0\n",
      "agent 37 obtained a driving force of 10.0\n",
      "agent 38 obtained a driving force of 10.0\n",
      "agent 39 obtained a driving force of 10.0\n",
      "agent 40 obtained a driving force of 10.5\n",
      "agent 41 obtained a driving force of 10.0\n",
      "agent 42 obtained a driving force of 10.0\n",
      "agent 43 obtained a driving force of 10.0\n",
      "agent 44 obtained a driving force of 10.0\n",
      "agent 45 obtained a driving force of 10.0\n",
      "agent 46 obtained a driving force of 10.0\n",
      "agent 47 obtained a driving force of 10.0\n",
      "agent 48 obtained a driving force of 10.0\n",
      "agent 49 obtained a driving force of 10.0\n",
      "agent 50 obtained a driving force of 10.0\n",
      "agent 51 obtained a driving force of 10.0\n",
      "agent 52 obtained a driving force of 10.0\n",
      "agent 53 obtained a driving force of 10.0\n",
      "agent 54 obtained a driving force of 10.0\n",
      "agent 55 obtained a driving force of 10.0\n",
      "agent 56 obtained a driving force of 10.0\n",
      "agent 57 obtained a driving force of 10.0\n",
      "agent 58 obtained a driving force of 10.0\n",
      "agent 59 obtained a driving force of 10.0\n",
      "agent 60 obtained a driving force of 10.0\n",
      "agent 61 obtained a driving force of 10.0\n",
      "agent 62 obtained a driving force of 10.0\n",
      "agent 63 obtained a driving force of 10.0\n",
      "agent 64 obtained a driving force of 10.0\n",
      "agent 65 obtained a driving force of 10.0\n",
      "agent 66 obtained a driving force of 10.0\n",
      "agent 67 obtained a driving force of 10.0\n",
      "agent 68 obtained a driving force of 10.0\n",
      "agent 69 obtained a driving force of 10.0\n",
      "agent 70 obtained a driving force of 10.0\n",
      "agent 71 obtained a driving force of 10.0\n",
      "agent 72 obtained a driving force of 10.0\n",
      "agent 73 obtained a driving force of 10.0\n",
      "agent 74 obtained a driving force of 10.0\n",
      "agent 75 obtained a driving force of 10.0\n",
      "agent 76 obtained a driving force of 10.0\n",
      "agent 77 obtained a driving force of 11.0\n",
      "agent 78 obtained a driving force of 10.0\n",
      "agent 79 obtained a driving force of 10.0\n",
      "agent 80 obtained a driving force of 10.0\n",
      "agent 81 obtained a driving force of 10.0\n",
      "agent 82 obtained a driving force of 10.0\n",
      "agent 83 obtained a driving force of 10.0\n",
      "agent 84 obtained a driving force of 10.0\n",
      "agent 85 obtained a driving force of 10.0\n",
      "agent 86 obtained a driving force of 10.0\n",
      "agent 87 obtained a driving force of 10.0\n",
      "agent 88 obtained a driving force of 11.0\n",
      "agent 89 obtained a driving force of 10.0\n",
      "agent 90 obtained a driving force of 10.0\n",
      "agent 91 obtained a driving force of 10.0\n",
      "agent 92 obtained a driving force of 10.6\n",
      "agent 93 obtained a driving force of 10.0\n",
      "agent 94 obtained a driving force of 10.0\n",
      "agent 95 obtained a driving force of 14.3\n",
      "agent 96 obtained a driving force of 10.0\n",
      "agent 97 obtained a driving force of 10.0\n",
      "agent 98 obtained a driving force of 10.0\n",
      "agent 99 obtained a driving force of 10.6\n",
      "agent 100 obtained a driving force of 10.0\n",
      "agent 101 obtained a driving force of 10.0\n",
      "agent 102 obtained a driving force of 10.0\n",
      "agent 103 obtained a driving force of 10.0\n",
      "agent 104 obtained a driving force of 10.0\n",
      "agent 105 obtained a driving force of 10.0\n",
      "agent 106 obtained a driving force of 10.0\n",
      "agent 107 obtained a driving force of 10.0\n",
      "agent 108 obtained a driving force of 10.0\n",
      "agent 109 obtained a driving force of 10.0\n",
      "agent 110 obtained a driving force of 10.0\n",
      "agent 111 obtained a driving force of 10.0\n",
      "agent 112 obtained a driving force of 10.0\n",
      "agent 113 obtained a driving force of 10.0\n",
      "agent 114 obtained a driving force of 10.0\n",
      "agent 115 obtained a driving force of 11.6\n",
      "[10.  10.  10.  10.  10.  10.  10.  10.  10.  10.  10.  10.  10.  10.\n",
      " 10.  10.  10.  10.  10.5 10.  10.  10.  10.  10.  10.  10.  10.  10.\n",
      " 10.  10.  10.  10.  10.  10.  10.  11.1 10.  10.  10.  10.  10.5 10.\n",
      " 10.  10.  10.  10.  10.  10.  10.  10.  10.  10.  10.  10.  10.  10.\n",
      " 10.  10.  10.  10.  10.  10.  10.  10.  10.  10.  10.  10.  10.  10.\n",
      " 10.  10.  10.  10.  10.  10.  10.  11.  10.  10.  10.  10.  10.  10.\n",
      " 10.  10.  10.  10.  11.  10.  10.  10.  10.6 10.  10.  14.3 10.  10.\n",
      " 10.  10.6 10.  10.  10.  10.  10.  10.  10.  10.  10.  10.  10.  10.\n",
      " 10.  10.  10.  11.6]\n"
     ]
    }
   ],
   "source": [
    "\n",
    "def update_driving_forces_cluster_speciific(edge_props, cluster_number, opinions): \n",
    "    len_cluster = 0\n",
    "    first_node = 0\n",
    "    if cluster_number == 0: \n",
    "        len_cluster = max_node_array[0]\n",
    "    else: \n",
    "        len_cluster = max_node_array[cluster_number]-max_node_array[cluster_number-1]\n",
    "        first_node = max_node_array[cluster_number-1]\n",
    "    \n",
    "    updated_driving_force = np.zeros(len_cluster)\n",
    "\n",
    "    agents_ids = [first_node+i for i in range(len_cluster)]\n",
    "\n",
    "    for a in agents_ids:\n",
    "        for edge in edge_props: \n",
    "           #check that the edge is directed at node a and opinions of agents don't match\n",
    "           if edge[1] == a and  not opinions[a-first_node] == opinions[edge[0]-first_node]: \n",
    "                updated_driving_force[a-first_node] += edge[2] * k_alpha + edge[3] * k_beta + edge[4]*k_delta\n",
    "        updated_driving_force[a-first_node]+=E_profit\n",
    "        print(\"agent {} obtained a driving force of {}\".format(a, updated_driving_force[a]))\n",
    "\n",
    "    return updated_driving_force \n",
    "\n",
    "d_forces = update_driving_forces_cluster_speciific(peoria_edges, 0, cluster_max_index , peoria_initials )\n",
    "print(d_forces)"
   ]
  },
  {
   "cell_type": "markdown",
   "metadata": {},
   "source": [
    "# main function "
   ]
  },
  {
   "cell_type": "code",
   "execution_count": null,
   "metadata": {},
   "outputs": [],
   "source": [
    "'''\n",
    "[cluster_elements, driving_forces, agents, opinions]\n",
    "'''\n",
    "def main():\n",
    "    elems = create_clusters(num_clusters, num_agents, cluster_specific=True)\n",
    "    probs = change_probs(elems[1])\n",
    "    \n",
    "    cluster_elements, driving_forces, agents, opinions = elems[0], elems[1], elems[2], elems[3]   \n",
    "    # [cluster_elements, driving_forces, agents, opinions]\n",
    "    \n",
    "    # cs: [cluster_elements, driving_forces, agents, opinions]\n",
    "    #  current_state: (agents' instrinsics, opinions, probabilities of change, driving forces)\n",
    "    current_state = [agents, opinions, probs, driving_forces]\n",
    "    for x in range(5):\n",
    "        print(\"iteration\", x)\n",
    "        #visualise([init[0], current_state[3], current_state[0], current_state[1]])\n",
    "        print(driving_forces)\n",
    "        current_state[3] = update_driving_forces(clusters, driving_forces, agents, opinions, update_agents=False)\n",
    "        current_state = update_state(current_state)\n",
    "\n",
    "        \n",
    "\n",
    "main()"
   ]
  },
  {
   "cell_type": "markdown",
   "metadata": {},
   "source": [
    "# probability calculation"
   ]
  },
  {
   "cell_type": "code",
   "execution_count": null,
   "metadata": {},
   "outputs": [],
   "source": [
    "'''\n",
    "compute the probability of change given a driving force    \n",
    "'''\n",
    "def change_probs(driving_forces):\n",
    "    hi = np.sum(driving_forces) # the maximum possible driving force \n",
    "    lo = None\n",
    "    driving_forces = normalise_driving_force(driving_forces, hi )\n",
    "    probs = [math.erf(driving_forces[i]) if driving_forces[i] < hi else math.erf(hi) for i in range(len(driving_forces)) ]\n",
    "    return probs\n",
    "\n",
    "\n",
    "'''\n",
    "The new opinion {x} of an agent given the prob. of change {p}\n",
    "\n",
    "Can serve as a state transition function\n",
    "'''\n",
    "def opinion(x, p):\n",
    "    res = (np.random.rand(1))[0]\n",
    "    return 1-x if res < p else x\n",
    "\n",
    "'''\n",
    "Part of modelling the transition function\n",
    "\n",
    "'''\n",
    "def normalise_driving_force(driving_forces, hi):\n",
    "    return driving_forces/hi\n",
    "\n",
    "\n",
    "'''\n",
    "You can define state transition functions here\n",
    "'''\n",
    "def transition_function(driving_forces, opinions, cluster_number, edge_props):\n",
    "       agents = state[0]\n",
    "        #print(state)\n",
    "       state[2] = change_probs(state[3])\n",
    "\n",
    "       for i in range(len(agents)): \n",
    "              new_opinion = opinion(state[1][i], state[2][i])\n",
    "              state[1][i] = new_opinion\n",
    "       return state\n",
    "\n"
   ]
  }
 ],
 "metadata": {
  "interpreter": {
   "hash": "c469c999aae2bf6d578d6881606ced546d1546d312a4811937df5b24665ee8bc"
  },
  "kernelspec": {
   "display_name": "Python 3.8.8 64-bit (conda)",
   "language": "python",
   "name": "python3"
  },
  "language_info": {
   "codemirror_mode": {
    "name": "ipython",
    "version": 3
   },
   "file_extension": ".py",
   "mimetype": "text/x-python",
   "name": "python",
   "nbconvert_exporter": "python",
   "pygments_lexer": "ipython3",
   "version": "3.8.8"
  },
  "orig_nbformat": 4
 },
 "nbformat": 4,
 "nbformat_minor": 2
}
